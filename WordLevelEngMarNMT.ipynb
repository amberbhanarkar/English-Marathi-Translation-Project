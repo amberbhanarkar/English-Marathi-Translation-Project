{
  "nbformat": 4,
  "nbformat_minor": 0,
  "metadata": {
    "kernelspec": {
      "display_name": "Python 3",
      "language": "python",
      "name": "python3"
    },
    "language_info": {
      "codemirror_mode": {
        "name": "ipython",
        "version": 3
      },
      "file_extension": ".py",
      "mimetype": "text/x-python",
      "name": "python",
      "nbconvert_exporter": "python",
      "pygments_lexer": "ipython3",
      "version": "3.6.5"
    },
    "colab": {
      "name": "WordLevelEngMarNMT.ipynb",
      "provenance": [],
      "collapsed_sections": [],
      "toc_visible": true
    },
    "accelerator": "TPU"
  },
  "cells": [
    {
      "cell_type": "markdown",
      "metadata": {
        "id": "kBLIE6fo_f6H",
        "colab_type": "text"
      },
      "source": [
        "### Datasets\n",
        "http://www.manythings.org/anki/  (Download and unzip mar-eng.zip file)"
      ]
    },
    {
      "cell_type": "code",
      "metadata": {
        "id": "tErRGCja_f6J",
        "colab_type": "code",
        "colab": {}
      },
      "source": [
        "import pandas as pd\n",
        "import numpy as np\n",
        "import string\n",
        "from string import digits\n",
        "import matplotlib.pyplot as plt\n",
        "%matplotlib inline\n",
        "import re\n",
        "from sklearn.utils import shuffle\n",
        "from sklearn.model_selection import train_test_split\n",
        "from keras.layers import Input, LSTM, Embedding, Dense, Bidirectional\n",
        "from keras.models import Model\n",
        "import nltk"
      ],
      "execution_count": 0,
      "outputs": []
    },
    {
      "cell_type": "code",
      "metadata": {
        "id": "_tr2rjlh_f6N",
        "colab_type": "code",
        "colab": {}
      },
      "source": [
        "lines= pd.read_table('/content/mar.txt', names=['eng', 'mar', 'noise'])"
      ],
      "execution_count": 0,
      "outputs": []
    },
    {
      "cell_type": "code",
      "metadata": {
        "id": "3t71eskV_f6R",
        "colab_type": "code",
        "outputId": "6c9dc608-2739-4f22-f5c5-5dfc1c46f56f",
        "colab": {
          "base_uri": "https://localhost:8080/",
          "height": 34
        }
      },
      "source": [
        "lines.shape"
      ],
      "execution_count": 3,
      "outputs": [
        {
          "output_type": "execute_result",
          "data": {
            "text/plain": [
              "(38696, 3)"
            ]
          },
          "metadata": {
            "tags": []
          },
          "execution_count": 3
        }
      ]
    },
    {
      "cell_type": "code",
      "metadata": {
        "id": "oKl11KFp_f6V",
        "colab_type": "code",
        "colab": {}
      },
      "source": [
        "# Lowercase all characters\n",
        "lines.eng=lines.eng.apply(lambda x: x.lower())\n",
        "lines.mar=lines.mar.apply(lambda x: x.lower())"
      ],
      "execution_count": 0,
      "outputs": []
    },
    {
      "cell_type": "code",
      "metadata": {
        "id": "6WWks43a_f6Y",
        "colab_type": "code",
        "colab": {}
      },
      "source": [
        "# Remove quotes\n",
        "lines.eng=lines.eng.apply(lambda x: re.sub(\"'\", '', x))\n",
        "lines.mar=lines.mar.apply(lambda x: re.sub(\"'\", '', x))"
      ],
      "execution_count": 0,
      "outputs": []
    },
    {
      "cell_type": "code",
      "metadata": {
        "id": "upRsMklk_f6a",
        "colab_type": "code",
        "colab": {}
      },
      "source": [
        "exclude = set(string.punctuation) # Set of all special characters\n",
        "# Remove all the special characters\n",
        "lines.eng=lines.eng.apply(lambda x: ''.join(ch for ch in x if ch not in exclude))\n",
        "lines.mar=lines.mar.apply(lambda x: ''.join(ch for ch in x if ch not in exclude))"
      ],
      "execution_count": 0,
      "outputs": []
    },
    {
      "cell_type": "code",
      "metadata": {
        "id": "HZG8pnJT_f6d",
        "colab_type": "code",
        "colab": {}
      },
      "source": [
        "# Remove all numbers from text\n",
        "remove_digits = str.maketrans('', '', digits)\n",
        "lines.eng=lines.eng.apply(lambda x: x.translate(remove_digits))\n",
        "lines.mar = lines.mar.apply(lambda x: re.sub(\"[२३०८१५७९४६]\", \"\", x))"
      ],
      "execution_count": 0,
      "outputs": []
    },
    {
      "cell_type": "code",
      "metadata": {
        "id": "vOpKIYI0_f6g",
        "colab_type": "code",
        "colab": {}
      },
      "source": [
        "# Remove extra spaces\n",
        "lines.eng=lines.eng.apply(lambda x: x.strip())\n",
        "lines.mar=lines.mar.apply(lambda x: x.strip())\n",
        "lines.eng=lines.eng.apply(lambda x: re.sub(\" +\", \" \", x))\n",
        "lines.mar=lines.mar.apply(lambda x: re.sub(\" +\", \" \", x))"
      ],
      "execution_count": 0,
      "outputs": []
    },
    {
      "cell_type": "code",
      "metadata": {
        "id": "0EI-l78d_f6i",
        "colab_type": "code",
        "colab": {}
      },
      "source": [
        "# Add start and end tokens to target sequences\n",
        "lines.mar = lines.mar.apply(lambda x : 'START_ '+ x + ' _END')"
      ],
      "execution_count": 0,
      "outputs": []
    },
    {
      "cell_type": "code",
      "metadata": {
        "id": "yA1xkh3Y_f6k",
        "colab_type": "code",
        "outputId": "65824051-02c8-450a-c442-8fd42c16b561",
        "colab": {
          "base_uri": "https://localhost:8080/",
          "height": 359
        }
      },
      "source": [
        "lines.sample(10)"
      ],
      "execution_count": 10,
      "outputs": [
        {
          "output_type": "execute_result",
          "data": {
            "text/html": [
              "<div>\n",
              "<style scoped>\n",
              "    .dataframe tbody tr th:only-of-type {\n",
              "        vertical-align: middle;\n",
              "    }\n",
              "\n",
              "    .dataframe tbody tr th {\n",
              "        vertical-align: top;\n",
              "    }\n",
              "\n",
              "    .dataframe thead th {\n",
              "        text-align: right;\n",
              "    }\n",
              "</style>\n",
              "<table border=\"1\" class=\"dataframe\">\n",
              "  <thead>\n",
              "    <tr style=\"text-align: right;\">\n",
              "      <th></th>\n",
              "      <th>eng</th>\n",
              "      <th>mar</th>\n",
              "      <th>noise</th>\n",
              "    </tr>\n",
              "  </thead>\n",
              "  <tbody>\n",
              "    <tr>\n",
              "      <th>22017</th>\n",
              "      <td>how many pens did you buy</td>\n",
              "      <td>START_ तुम्ही किती पेन विकत घेतली _END</td>\n",
              "      <td>1820637 (Amastan) &amp; #7910192</td>\n",
              "    </tr>\n",
              "    <tr>\n",
              "      <th>26071</th>\n",
              "      <td>tom was with his girlfriend</td>\n",
              "      <td>START_ टॉम त्याच्या गर्लफ्रेंडबरोबर होता _END</td>\n",
              "      <td>4494032 (CK) &amp; #5245173</td>\n",
              "    </tr>\n",
              "    <tr>\n",
              "      <th>29959</th>\n",
              "      <td>did you see yesterdays episode</td>\n",
              "      <td>START_ कालचा एपिसोड बघितलात _END</td>\n",
              "      <td>1624888 (marcelostockle) &amp; #3654216</td>\n",
              "    </tr>\n",
              "    <tr>\n",
              "      <th>27298</th>\n",
              "      <td>tom already thinks im crazy</td>\n",
              "      <td>START_ आधीच टॉमला वाटतं मी वेडी आहे _END</td>\n",
              "      <td>2643340 (CK) &amp; #4590389</td>\n",
              "    </tr>\n",
              "    <tr>\n",
              "      <th>22121</th>\n",
              "      <td>i dont want to marry tom</td>\n",
              "      <td>START_ मला टॉमशी लग्न करायचं नाहीये _END</td>\n",
              "      <td>2012429 (CK) &amp; #3058491</td>\n",
              "    </tr>\n",
              "    <tr>\n",
              "      <th>32491</th>\n",
              "      <td>how many girlfriends does tom have</td>\n",
              "      <td>START_ टॉमकडे किती गर्लफ्रेंड आहेत _END</td>\n",
              "      <td>1821353 (Amastan) &amp; #5245195</td>\n",
              "    </tr>\n",
              "    <tr>\n",
              "      <th>10233</th>\n",
              "      <td>where is your wife</td>\n",
              "      <td>START_ तुझी बायको कुठे आहे _END</td>\n",
              "      <td>3071374 (sharptoothed) &amp; #3725951</td>\n",
              "    </tr>\n",
              "    <tr>\n",
              "      <th>35603</th>\n",
              "      <td>tom shouldnt have told mary about john</td>\n",
              "      <td>START_ टॉमने मेरीला जॉनबद्दल सांगायला नको होतं...</td>\n",
              "      <td>1867906 (CK) &amp; #2085355</td>\n",
              "    </tr>\n",
              "    <tr>\n",
              "      <th>18208</th>\n",
              "      <td>youre our best player</td>\n",
              "      <td>START_ तू आमचा सर्वात चांगला खेळाडू आहेस _END</td>\n",
              "      <td>5916535 (CK) &amp; #8161031</td>\n",
              "    </tr>\n",
              "    <tr>\n",
              "      <th>28765</th>\n",
              "      <td>whats the name of toms boat</td>\n",
              "      <td>START_ टॉमच्या बोटीचं नाव काय होतं _END</td>\n",
              "      <td>4016923 (CK) &amp; #4346346</td>\n",
              "    </tr>\n",
              "  </tbody>\n",
              "</table>\n",
              "</div>"
            ],
            "text/plain": [
              "                                          eng  ...                                 noise\n",
              "22017               how many pens did you buy  ...         1820637 (Amastan) & #7910192 \n",
              "26071             tom was with his girlfriend  ...              4494032 (CK) & #5245173 \n",
              "29959          did you see yesterdays episode  ...  1624888 (marcelostockle) & #3654216 \n",
              "27298             tom already thinks im crazy  ...              2643340 (CK) & #4590389 \n",
              "22121                i dont want to marry tom  ...              2012429 (CK) & #3058491 \n",
              "32491      how many girlfriends does tom have  ...         1821353 (Amastan) & #5245195 \n",
              "10233                      where is your wife  ...    3071374 (sharptoothed) & #3725951 \n",
              "35603  tom shouldnt have told mary about john  ...              1867906 (CK) & #2085355 \n",
              "18208                   youre our best player  ...              5916535 (CK) & #8161031 \n",
              "28765             whats the name of toms boat  ...              4016923 (CK) & #4346346 \n",
              "\n",
              "[10 rows x 3 columns]"
            ]
          },
          "metadata": {
            "tags": []
          },
          "execution_count": 10
        }
      ]
    },
    {
      "cell_type": "code",
      "metadata": {
        "id": "AI64ueK6_f6n",
        "colab_type": "code",
        "colab": {}
      },
      "source": [
        "# Vocabulary of English\n",
        "all_eng_words=set()\n",
        "for eng in lines.eng:\n",
        "    for word in eng.split():\n",
        "        if word not in all_eng_words:\n",
        "            all_eng_words.add(word)\n",
        "\n",
        "# Vocabulary of French \n",
        "all_marathi_words=set()\n",
        "for mar in lines.mar:\n",
        "    for word in mar.split():\n",
        "        if word not in all_marathi_words:\n",
        "            all_marathi_words.add(word)"
      ],
      "execution_count": 0,
      "outputs": []
    },
    {
      "cell_type": "code",
      "metadata": {
        "id": "M9_Mvd8p_f6q",
        "colab_type": "code",
        "outputId": "91d87a78-5021-49d6-dfce-5a80e1bd9a0f",
        "colab": {
          "base_uri": "https://localhost:8080/",
          "height": 34
        }
      },
      "source": [
        "# Max Length of source sequence\n",
        "lenght_list=[]\n",
        "for l in lines.eng:\n",
        "    lenght_list.append(len(l.split(' ')))\n",
        "max_length_src = np.max(lenght_list)\n",
        "max_length_src"
      ],
      "execution_count": 12,
      "outputs": [
        {
          "output_type": "execute_result",
          "data": {
            "text/plain": [
              "34"
            ]
          },
          "metadata": {
            "tags": []
          },
          "execution_count": 12
        }
      ]
    },
    {
      "cell_type": "code",
      "metadata": {
        "id": "MgBkPTCw_f6t",
        "colab_type": "code",
        "outputId": "abbdada6-9aaf-4c7e-9c61-edc7858258f7",
        "colab": {
          "base_uri": "https://localhost:8080/",
          "height": 34
        }
      },
      "source": [
        "# Max Length of target sequence\n",
        "lenght_list=[]\n",
        "for l in lines.mar:\n",
        "    lenght_list.append(len(l.split(' ')))\n",
        "max_length_tar = np.max(lenght_list)\n",
        "max_length_tar"
      ],
      "execution_count": 13,
      "outputs": [
        {
          "output_type": "execute_result",
          "data": {
            "text/plain": [
              "37"
            ]
          },
          "metadata": {
            "tags": []
          },
          "execution_count": 13
        }
      ]
    },
    {
      "cell_type": "code",
      "metadata": {
        "id": "sJ5E4Up2_f6w",
        "colab_type": "code",
        "outputId": "e4cde6cc-7619-42d2-8a2f-9a5d48514b50",
        "colab": {
          "base_uri": "https://localhost:8080/",
          "height": 34
        }
      },
      "source": [
        "input_words = sorted(list(all_eng_words))\n",
        "target_words = sorted(list(all_marathi_words))\n",
        "num_encoder_tokens = len(all_eng_words)+1\n",
        "num_decoder_tokens = len(all_marathi_words)+1\n",
        "num_encoder_tokens, num_decoder_tokens"
      ],
      "execution_count": 14,
      "outputs": [
        {
          "output_type": "execute_result",
          "data": {
            "text/plain": [
              "(5586, 13387)"
            ]
          },
          "metadata": {
            "tags": []
          },
          "execution_count": 14
        }
      ]
    },
    {
      "cell_type": "code",
      "metadata": {
        "id": "hRtFISHQ_f6y",
        "colab_type": "code",
        "outputId": "e4ad3623-8bdd-4f61-8c9a-f6fc110b4f16",
        "colab": {
          "base_uri": "https://localhost:8080/",
          "height": 34
        }
      },
      "source": [
        "num_decoder_tokens += 1 # For zero padding\n",
        "num_decoder_tokens"
      ],
      "execution_count": 15,
      "outputs": [
        {
          "output_type": "execute_result",
          "data": {
            "text/plain": [
              "13388"
            ]
          },
          "metadata": {
            "tags": []
          },
          "execution_count": 15
        }
      ]
    },
    {
      "cell_type": "code",
      "metadata": {
        "id": "0OXh0TMt_f60",
        "colab_type": "code",
        "colab": {}
      },
      "source": [
        "input_token_index = dict([(word, i+1) for i, word in enumerate(input_words)])\n",
        "target_token_index = dict([(word, i+1) for i, word in enumerate(target_words)])"
      ],
      "execution_count": 0,
      "outputs": []
    },
    {
      "cell_type": "code",
      "metadata": {
        "id": "lK4tjqm7_f63",
        "colab_type": "code",
        "colab": {}
      },
      "source": [
        "reverse_input_char_index = dict((i, word) for word, i in input_token_index.items())\n",
        "reverse_target_char_index = dict((i, word) for word, i in target_token_index.items())"
      ],
      "execution_count": 0,
      "outputs": []
    },
    {
      "cell_type": "code",
      "metadata": {
        "id": "fMvIJlwv_f65",
        "colab_type": "code",
        "outputId": "6f2640cf-980b-473c-80f8-7ad539385ac0",
        "colab": {
          "base_uri": "https://localhost:8080/",
          "height": 359
        }
      },
      "source": [
        "lines = shuffle(lines)\n",
        "lines.head(10)"
      ],
      "execution_count": 18,
      "outputs": [
        {
          "output_type": "execute_result",
          "data": {
            "text/html": [
              "<div>\n",
              "<style scoped>\n",
              "    .dataframe tbody tr th:only-of-type {\n",
              "        vertical-align: middle;\n",
              "    }\n",
              "\n",
              "    .dataframe tbody tr th {\n",
              "        vertical-align: top;\n",
              "    }\n",
              "\n",
              "    .dataframe thead th {\n",
              "        text-align: right;\n",
              "    }\n",
              "</style>\n",
              "<table border=\"1\" class=\"dataframe\">\n",
              "  <thead>\n",
              "    <tr style=\"text-align: right;\">\n",
              "      <th></th>\n",
              "      <th>eng</th>\n",
              "      <th>mar</th>\n",
              "      <th>noise</th>\n",
              "    </tr>\n",
              "  </thead>\n",
              "  <tbody>\n",
              "    <tr>\n",
              "      <th>32976</th>\n",
              "      <td>what does the bible say about this</td>\n",
              "      <td>START_ याबद्दल बायबलमध्ये काय लिहिलं आहे _END</td>\n",
              "      <td>2949978 (Hybrid) &amp; #4413663</td>\n",
              "    </tr>\n",
              "    <tr>\n",
              "      <th>20426</th>\n",
              "      <td>i cannot lift this stone</td>\n",
              "      <td>START_ मी हा दगड उचलू शकत नाही _END</td>\n",
              "      <td>249789 (CM) &amp; #8186515</td>\n",
              "    </tr>\n",
              "    <tr>\n",
              "      <th>36559</th>\n",
              "      <td>the nile is the longest river in the world</td>\n",
              "      <td>START_ नाईल ही जगातली सर्वात दीर्घ नदी आहे _END</td>\n",
              "      <td>36535 (CM) &amp; #2396479</td>\n",
              "    </tr>\n",
              "    <tr>\n",
              "      <th>14935</th>\n",
              "      <td>how was the math test</td>\n",
              "      <td>START_ गणिताची परीक्षा कशी गेली _END</td>\n",
              "      <td>270999 (CK) &amp; #2223902</td>\n",
              "    </tr>\n",
              "    <tr>\n",
              "      <th>17062</th>\n",
              "      <td>i made certain of that</td>\n",
              "      <td>START_ त्याची मी खात्री करून घेतली _END</td>\n",
              "      <td>2380424 (CK) &amp; #4822209</td>\n",
              "    </tr>\n",
              "    <tr>\n",
              "      <th>16005</th>\n",
              "      <td>tom works as a waiter</td>\n",
              "      <td>START_ टॉम वेटरची नोकरी करतो _END</td>\n",
              "      <td>7367741 (CK) &amp; #7371598</td>\n",
              "    </tr>\n",
              "    <tr>\n",
              "      <th>27563</th>\n",
              "      <td>what kind of english is that</td>\n",
              "      <td>START_ ती कोणत्या प्रकारची इंग्रजी आहे _END</td>\n",
              "      <td>1059829 (ulyssemc1) &amp; #3034429</td>\n",
              "    </tr>\n",
              "    <tr>\n",
              "      <th>13176</th>\n",
              "      <td>i waited three hours</td>\n",
              "      <td>START_ मी तीन तास वाट पाहिली _END</td>\n",
              "      <td>2547930 (CK) &amp; #2755818</td>\n",
              "    </tr>\n",
              "    <tr>\n",
              "      <th>26049</th>\n",
              "      <td>tom wants to be an engineer</td>\n",
              "      <td>START_ टॉमला इंजिनियर बनायचं आहे _END</td>\n",
              "      <td>5541980 (CK) &amp; #7084953</td>\n",
              "    </tr>\n",
              "    <tr>\n",
              "      <th>13234</th>\n",
              "      <td>i wont work for you</td>\n",
              "      <td>START_ मी तुझ्यासाठी काम करणार नाही _END</td>\n",
              "      <td>2276489 (CK) &amp; #3452427</td>\n",
              "    </tr>\n",
              "  </tbody>\n",
              "</table>\n",
              "</div>"
            ],
            "text/plain": [
              "                                              eng  ...                            noise\n",
              "32976          what does the bible say about this  ...     2949978 (Hybrid) & #4413663 \n",
              "20426                    i cannot lift this stone  ...          249789 (CM) & #8186515 \n",
              "36559  the nile is the longest river in the world  ...           36535 (CM) & #2396479 \n",
              "14935                       how was the math test  ...          270999 (CK) & #2223902 \n",
              "17062                      i made certain of that  ...         2380424 (CK) & #4822209 \n",
              "16005                       tom works as a waiter  ...         7367741 (CK) & #7371598 \n",
              "27563                what kind of english is that  ...  1059829 (ulyssemc1) & #3034429 \n",
              "13176                        i waited three hours  ...         2547930 (CK) & #2755818 \n",
              "26049                 tom wants to be an engineer  ...         5541980 (CK) & #7084953 \n",
              "13234                         i wont work for you  ...         2276489 (CK) & #3452427 \n",
              "\n",
              "[10 rows x 3 columns]"
            ]
          },
          "metadata": {
            "tags": []
          },
          "execution_count": 18
        }
      ]
    },
    {
      "cell_type": "code",
      "metadata": {
        "id": "y5JqA_Ib_f67",
        "colab_type": "code",
        "outputId": "594b3dfc-a5f0-46b0-9566-8686668ed0be",
        "colab": {
          "base_uri": "https://localhost:8080/",
          "height": 34
        }
      },
      "source": [
        "# Train - Test Split\n",
        "X, y = lines.eng, lines.mar\n",
        "X_train, X_test, y_train, y_test = train_test_split(X, y, test_size = 0.1)\n",
        "X_train.shape, X_test.shape"
      ],
      "execution_count": 19,
      "outputs": [
        {
          "output_type": "execute_result",
          "data": {
            "text/plain": [
              "((34826,), (3870,))"
            ]
          },
          "metadata": {
            "tags": []
          },
          "execution_count": 19
        }
      ]
    },
    {
      "cell_type": "markdown",
      "metadata": {
        "id": "5B9TYynZ_f6-",
        "colab_type": "text"
      },
      "source": [
        "#### Save the train and test dataframes for reproducing the results later, as they are shuffled."
      ]
    },
    {
      "cell_type": "code",
      "metadata": {
        "id": "dn9ayeq-_f6-",
        "colab_type": "code",
        "outputId": "fadbd6b0-5ad4-422b-fe8c-656d5080bf29",
        "colab": {
          "base_uri": "https://localhost:8080/",
          "height": 343
        }
      },
      "source": [
        "X_train.to_pickle('Weights_Mar/X_train.pkl')\n",
        "X_test.to_pickle('Weights_Mar/X_test.pkl')"
      ],
      "execution_count": 20,
      "outputs": [
        {
          "output_type": "error",
          "ename": "FileNotFoundError",
          "evalue": "ignored",
          "traceback": [
            "\u001b[0;31m---------------------------------------------------------------------------\u001b[0m",
            "\u001b[0;31mFileNotFoundError\u001b[0m                         Traceback (most recent call last)",
            "\u001b[0;32m<ipython-input-20-56cdde43e66c>\u001b[0m in \u001b[0;36m<module>\u001b[0;34m()\u001b[0m\n\u001b[0;32m----> 1\u001b[0;31m \u001b[0mX_train\u001b[0m\u001b[0;34m.\u001b[0m\u001b[0mto_pickle\u001b[0m\u001b[0;34m(\u001b[0m\u001b[0;34m'Weights_Mar/X_train.pkl'\u001b[0m\u001b[0;34m)\u001b[0m\u001b[0;34m\u001b[0m\u001b[0;34m\u001b[0m\u001b[0m\n\u001b[0m\u001b[1;32m      2\u001b[0m \u001b[0mX_test\u001b[0m\u001b[0;34m.\u001b[0m\u001b[0mto_pickle\u001b[0m\u001b[0;34m(\u001b[0m\u001b[0;34m'Weights_Mar/X_test.pkl'\u001b[0m\u001b[0;34m)\u001b[0m\u001b[0;34m\u001b[0m\u001b[0;34m\u001b[0m\u001b[0m\n",
            "\u001b[0;32m/usr/local/lib/python3.6/dist-packages/pandas/core/generic.py\u001b[0m in \u001b[0;36mto_pickle\u001b[0;34m(self, path, compression, protocol)\u001b[0m\n\u001b[1;32m   2723\u001b[0m         \u001b[0;32mfrom\u001b[0m \u001b[0mpandas\u001b[0m\u001b[0;34m.\u001b[0m\u001b[0mio\u001b[0m\u001b[0;34m.\u001b[0m\u001b[0mpickle\u001b[0m \u001b[0;32mimport\u001b[0m \u001b[0mto_pickle\u001b[0m\u001b[0;34m\u001b[0m\u001b[0;34m\u001b[0m\u001b[0m\n\u001b[1;32m   2724\u001b[0m \u001b[0;34m\u001b[0m\u001b[0m\n\u001b[0;32m-> 2725\u001b[0;31m         \u001b[0mto_pickle\u001b[0m\u001b[0;34m(\u001b[0m\u001b[0mself\u001b[0m\u001b[0;34m,\u001b[0m \u001b[0mpath\u001b[0m\u001b[0;34m,\u001b[0m \u001b[0mcompression\u001b[0m\u001b[0;34m=\u001b[0m\u001b[0mcompression\u001b[0m\u001b[0;34m,\u001b[0m \u001b[0mprotocol\u001b[0m\u001b[0;34m=\u001b[0m\u001b[0mprotocol\u001b[0m\u001b[0;34m)\u001b[0m\u001b[0;34m\u001b[0m\u001b[0;34m\u001b[0m\u001b[0m\n\u001b[0m\u001b[1;32m   2726\u001b[0m \u001b[0;34m\u001b[0m\u001b[0m\n\u001b[1;32m   2727\u001b[0m     def to_clipboard(\n",
            "\u001b[0;32m/usr/local/lib/python3.6/dist-packages/pandas/io/pickle.py\u001b[0m in \u001b[0;36mto_pickle\u001b[0;34m(obj, filepath_or_buffer, compression, protocol)\u001b[0m\n\u001b[1;32m     82\u001b[0m     \u001b[0;32mif\u001b[0m \u001b[0;32mnot\u001b[0m \u001b[0misinstance\u001b[0m\u001b[0;34m(\u001b[0m\u001b[0mfp_or_buf\u001b[0m\u001b[0;34m,\u001b[0m \u001b[0mstr\u001b[0m\u001b[0;34m)\u001b[0m \u001b[0;32mand\u001b[0m \u001b[0mcompression\u001b[0m \u001b[0;34m==\u001b[0m \u001b[0;34m\"infer\"\u001b[0m\u001b[0;34m:\u001b[0m\u001b[0;34m\u001b[0m\u001b[0;34m\u001b[0m\u001b[0m\n\u001b[1;32m     83\u001b[0m         \u001b[0mcompression\u001b[0m \u001b[0;34m=\u001b[0m \u001b[0;32mNone\u001b[0m\u001b[0;34m\u001b[0m\u001b[0;34m\u001b[0m\u001b[0m\n\u001b[0;32m---> 84\u001b[0;31m     \u001b[0mf\u001b[0m\u001b[0;34m,\u001b[0m \u001b[0mfh\u001b[0m \u001b[0;34m=\u001b[0m \u001b[0mget_handle\u001b[0m\u001b[0;34m(\u001b[0m\u001b[0mfp_or_buf\u001b[0m\u001b[0;34m,\u001b[0m \u001b[0;34m\"wb\"\u001b[0m\u001b[0;34m,\u001b[0m \u001b[0mcompression\u001b[0m\u001b[0;34m=\u001b[0m\u001b[0mcompression\u001b[0m\u001b[0;34m,\u001b[0m \u001b[0mis_text\u001b[0m\u001b[0;34m=\u001b[0m\u001b[0;32mFalse\u001b[0m\u001b[0;34m)\u001b[0m\u001b[0;34m\u001b[0m\u001b[0;34m\u001b[0m\u001b[0m\n\u001b[0m\u001b[1;32m     85\u001b[0m     \u001b[0;32mif\u001b[0m \u001b[0mprotocol\u001b[0m \u001b[0;34m<\u001b[0m \u001b[0;36m0\u001b[0m\u001b[0;34m:\u001b[0m\u001b[0;34m\u001b[0m\u001b[0;34m\u001b[0m\u001b[0m\n\u001b[1;32m     86\u001b[0m         \u001b[0mprotocol\u001b[0m \u001b[0;34m=\u001b[0m \u001b[0mpickle\u001b[0m\u001b[0;34m.\u001b[0m\u001b[0mHIGHEST_PROTOCOL\u001b[0m\u001b[0;34m\u001b[0m\u001b[0;34m\u001b[0m\u001b[0m\n",
            "\u001b[0;32m/usr/local/lib/python3.6/dist-packages/pandas/io/common.py\u001b[0m in \u001b[0;36mget_handle\u001b[0;34m(path_or_buf, mode, encoding, compression, memory_map, is_text)\u001b[0m\n\u001b[1;32m    459\u001b[0m         \u001b[0;32melse\u001b[0m\u001b[0;34m:\u001b[0m\u001b[0;34m\u001b[0m\u001b[0;34m\u001b[0m\u001b[0m\n\u001b[1;32m    460\u001b[0m             \u001b[0;31m# Binary mode\u001b[0m\u001b[0;34m\u001b[0m\u001b[0;34m\u001b[0m\u001b[0;34m\u001b[0m\u001b[0m\n\u001b[0;32m--> 461\u001b[0;31m             \u001b[0mf\u001b[0m \u001b[0;34m=\u001b[0m \u001b[0mopen\u001b[0m\u001b[0;34m(\u001b[0m\u001b[0mpath_or_buf\u001b[0m\u001b[0;34m,\u001b[0m \u001b[0mmode\u001b[0m\u001b[0;34m)\u001b[0m\u001b[0;34m\u001b[0m\u001b[0;34m\u001b[0m\u001b[0m\n\u001b[0m\u001b[1;32m    462\u001b[0m         \u001b[0mhandles\u001b[0m\u001b[0;34m.\u001b[0m\u001b[0mappend\u001b[0m\u001b[0;34m(\u001b[0m\u001b[0mf\u001b[0m\u001b[0;34m)\u001b[0m\u001b[0;34m\u001b[0m\u001b[0;34m\u001b[0m\u001b[0m\n\u001b[1;32m    463\u001b[0m \u001b[0;34m\u001b[0m\u001b[0m\n",
            "\u001b[0;31mFileNotFoundError\u001b[0m: [Errno 2] No such file or directory: 'Weights_Mar/X_train.pkl'"
          ]
        }
      ]
    },
    {
      "cell_type": "code",
      "metadata": {
        "id": "q6q_pJmj_f7B",
        "colab_type": "code",
        "colab": {}
      },
      "source": [
        "def generate_batch(X = X_train, y = y_train, batch_size = 128):\n",
        "    ''' Generate a batch of data '''\n",
        "    while True:\n",
        "        for j in range(0, len(X), batch_size):\n",
        "            encoder_input_data = np.zeros((batch_size, max_length_src),dtype='float32')\n",
        "            decoder_input_data = np.zeros((batch_size, max_length_tar),dtype='float32')\n",
        "            decoder_target_data = np.zeros((batch_size, max_length_tar, num_decoder_tokens),dtype='float32')\n",
        "            for i, (input_text, target_text) in enumerate(zip(X[j:j+batch_size], y[j:j+batch_size])):\n",
        "                for t, word in enumerate(input_text.split()):\n",
        "                    encoder_input_data[i, t] = input_token_index[word] # encoder input seq\n",
        "                for t, word in enumerate(target_text.split()):\n",
        "                    if t<len(target_text.split())-1:\n",
        "                        decoder_input_data[i, t] = target_token_index[word] # decoder input seq\n",
        "                    if t>0:\n",
        "                        # decoder target sequence (one hot encoded)\n",
        "                        # does not include the START_ token\n",
        "                        # Offset by one timestep\n",
        "                        decoder_target_data[i, t - 1, target_token_index[word]] = 1.\n",
        "            yield([encoder_input_data, decoder_input_data], decoder_target_data)"
      ],
      "execution_count": 0,
      "outputs": []
    },
    {
      "cell_type": "markdown",
      "metadata": {
        "id": "F1wmp-cX_f7D",
        "colab_type": "text"
      },
      "source": [
        "### Encoder - Decoder Model Architecture"
      ]
    },
    {
      "cell_type": "code",
      "metadata": {
        "id": "lZ1qRarN_f7E",
        "colab_type": "code",
        "colab": {}
      },
      "source": [
        "latent_dim = 40"
      ],
      "execution_count": 0,
      "outputs": []
    },
    {
      "cell_type": "code",
      "metadata": {
        "id": "qcnWXDFx_f7G",
        "colab_type": "code",
        "colab": {}
      },
      "source": [
        "# Encoder\n",
        "encoder_inputs = Input(shape=(None,))\n",
        "enc_emb =  Embedding(num_encoder_tokens, latent_dim, mask_zero = True)(encoder_inputs)\n",
        "encoder_lstm = LSTM(latent_dim, return_state=True)\n",
        "encoder_outputs, state_h, state_c = encoder_lstm(enc_emb)\n",
        "# We discard `encoder_outputs` and only keep the states.\n",
        "encoder_states = [state_h, state_c]"
      ],
      "execution_count": 0,
      "outputs": []
    },
    {
      "cell_type": "code",
      "metadata": {
        "id": "i8KuE05s_f7J",
        "colab_type": "code",
        "outputId": "77fb0540-a6ce-4ab1-862b-467560996c24",
        "colab": {
          "base_uri": "https://localhost:8080/",
          "height": 425
        }
      },
      "source": [
        "# Set up the decoder, using `encoder_states` as initial state.\n",
        "decoder_inputs = Input(shape=(None,))\n",
        "dec_emb_layer = Embedding(num_decoder_tokens, latent_dim, mask_zero = True)\n",
        "dec_emb = dec_emb_layer(decoder_inputs)\n",
        "# We set up our decoder to return full output sequences,\n",
        "# and to return internal states as well. We don't use the\n",
        "# return states in the training model, but we will use them in inference.\n",
        "decoder_lstm = LSTM(latent_dim, return_sequences=True, return_state=True)\n",
        "decoder_outputs, _, _ = decoder_lstm(dec_emb,\n",
        "                                     initial_state=encoder_states)\n",
        "decoder_dense = Dense(num_decoder_tokens, activation='softmax')\n",
        "decoder_outputs = decoder_dense(decoder_outputs)\n",
        "\n",
        "# Define the model that will turn\n",
        "# `encoder_input_data` & `decoder_input_data` into `decoder_target_data`\n",
        "model = Model([encoder_inputs, decoder_inputs], decoder_outputs)\n",
        "model.summary()"
      ],
      "execution_count": 24,
      "outputs": [
        {
          "output_type": "stream",
          "text": [
            "Model: \"model_1\"\n",
            "__________________________________________________________________________________________________\n",
            "Layer (type)                    Output Shape         Param #     Connected to                     \n",
            "==================================================================================================\n",
            "input_1 (InputLayer)            (None, None)         0                                            \n",
            "__________________________________________________________________________________________________\n",
            "input_2 (InputLayer)            (None, None)         0                                            \n",
            "__________________________________________________________________________________________________\n",
            "embedding_1 (Embedding)         (None, None, 40)     223440      input_1[0][0]                    \n",
            "__________________________________________________________________________________________________\n",
            "embedding_2 (Embedding)         (None, None, 40)     535520      input_2[0][0]                    \n",
            "__________________________________________________________________________________________________\n",
            "lstm_1 (LSTM)                   [(None, 40), (None,  12960       embedding_1[0][0]                \n",
            "__________________________________________________________________________________________________\n",
            "lstm_2 (LSTM)                   [(None, None, 40), ( 12960       embedding_2[0][0]                \n",
            "                                                                 lstm_1[0][1]                     \n",
            "                                                                 lstm_1[0][2]                     \n",
            "__________________________________________________________________________________________________\n",
            "dense_1 (Dense)                 (None, None, 13388)  548908      lstm_2[0][0]                     \n",
            "==================================================================================================\n",
            "Total params: 1,333,788\n",
            "Trainable params: 1,333,788\n",
            "Non-trainable params: 0\n",
            "__________________________________________________________________________________________________\n"
          ],
          "name": "stdout"
        }
      ]
    },
    {
      "cell_type": "code",
      "metadata": {
        "id": "eBcU-Anp_f7L",
        "colab_type": "code",
        "colab": {}
      },
      "source": [
        "model.compile(optimizer='adam', loss='categorical_crossentropy', metrics=['acc'])"
      ],
      "execution_count": 0,
      "outputs": []
    },
    {
      "cell_type": "code",
      "metadata": {
        "id": "98RaC-Mu_f7Q",
        "colab_type": "code",
        "outputId": "7d1d1be6-e21b-449f-92dd-4233746142e3",
        "colab": {}
      },
      "source": [
        "from IPython.display import Image\n",
        "Image(retina=True, filename='train_model.png')"
      ],
      "execution_count": 0,
      "outputs": [
        {
          "output_type": "execute_result",
          "data": {
            "image/png": "[encoded data removed]",
            "text/plain": [
              "<IPython.core.display.Image object>"
            ]
          },
          "metadata": {
            "tags": [],
            "image/png": {
              "height": 258,
              "width": 509
            }
          },
          "execution_count": 1
        }
      ]
    },
    {
      "cell_type": "code",
      "metadata": {
        "id": "06bvXsV4_f7T",
        "colab_type": "code",
        "colab": {}
      },
      "source": [
        "train_samples = len(X_train)\n",
        "val_samples = len(X_test)\n",
        "batch_size = 128\n",
        "epochs = 50"
      ],
      "execution_count": 0,
      "outputs": []
    },
    {
      "cell_type": "code",
      "metadata": {
        "id": "Cwb-lRgm_f7V",
        "colab_type": "code",
        "outputId": "5cdc56fa-7a0a-4009-c917-5cefd9d89a3a",
        "colab": {
          "base_uri": "https://localhost:8080/",
          "height": 1000
        }
      },
      "source": [
        "history = model.fit_generator(generator = generate_batch(X_train, y_train, batch_size = batch_size),\n",
        "                    steps_per_epoch = train_samples//batch_size,\n",
        "                    epochs=epochs,\n",
        "                    validation_data = generate_batch(X_test, y_test, batch_size = batch_size),\n",
        "                    validation_steps = val_samples//batch_size)"
      ],
      "execution_count": 27,
      "outputs": [
        {
          "output_type": "stream",
          "text": [
            "/usr/local/lib/python3.6/dist-packages/tensorflow/python/framework/indexed_slices.py:434: UserWarning: Converting sparse IndexedSlices to a dense Tensor of unknown shape. This may consume a large amount of memory.\n",
            "  \"Converting sparse IndexedSlices to a dense Tensor of unknown shape. \"\n"
          ],
          "name": "stderr"
        },
        {
          "output_type": "stream",
          "text": [
            "Epoch 1/50\n",
            "272/272 [==============================] - 797s 3s/step - loss: 1.0549 - acc: 0.1778 - val_loss: 0.9445 - val_acc: 0.1996\n",
            "Epoch 2/50\n",
            "272/272 [==============================] - 789s 3s/step - loss: 0.8776 - acc: 0.2009 - val_loss: 0.8624 - val_acc: 0.2006\n",
            "Epoch 3/50\n",
            "272/272 [==============================] - 790s 3s/step - loss: 0.8441 - acc: 0.2041 - val_loss: 0.7932 - val_acc: 0.2130\n",
            "Epoch 4/50\n",
            "272/272 [==============================] - 791s 3s/step - loss: 0.8138 - acc: 0.2246 - val_loss: 0.8388 - val_acc: 0.2329\n",
            "Epoch 5/50\n",
            "272/272 [==============================] - 789s 3s/step - loss: 0.7918 - acc: 0.2418 - val_loss: 0.8752 - val_acc: 0.2385\n",
            "Epoch 6/50\n",
            "272/272 [==============================] - 790s 3s/step - loss: 0.7715 - acc: 0.2505 - val_loss: 0.7586 - val_acc: 0.2517\n",
            "Epoch 7/50\n",
            "272/272 [==============================] - 788s 3s/step - loss: 0.7505 - acc: 0.2637 - val_loss: 0.8005 - val_acc: 0.2630\n",
            "Epoch 8/50\n",
            "272/272 [==============================] - 792s 3s/step - loss: 0.7300 - acc: 0.2744 - val_loss: 0.7304 - val_acc: 0.2730\n",
            "Epoch 9/50\n",
            "272/272 [==============================] - 788s 3s/step - loss: 0.7105 - acc: 0.2871 - val_loss: 0.7511 - val_acc: 0.2845\n",
            "Epoch 10/50\n",
            "272/272 [==============================] - 788s 3s/step - loss: 0.6914 - acc: 0.2996 - val_loss: 0.7178 - val_acc: 0.2974\n",
            "Epoch 11/50\n",
            "272/272 [==============================] - 788s 3s/step - loss: 0.6723 - acc: 0.3127 - val_loss: 0.6910 - val_acc: 0.3083\n",
            "Epoch 12/50\n",
            "272/272 [==============================] - 789s 3s/step - loss: 0.6542 - acc: 0.3255 - val_loss: 0.6963 - val_acc: 0.3189\n",
            "Epoch 13/50\n",
            "272/272 [==============================] - 791s 3s/step - loss: 0.6371 - acc: 0.3379 - val_loss: 0.6784 - val_acc: 0.3273\n",
            "Epoch 14/50\n",
            "272/272 [==============================] - 792s 3s/step - loss: 0.6200 - acc: 0.3495 - val_loss: 0.6884 - val_acc: 0.3380\n",
            "Epoch 15/50\n",
            "272/272 [==============================] - 794s 3s/step - loss: 0.6034 - acc: 0.3602 - val_loss: 0.6687 - val_acc: 0.3478\n",
            "Epoch 16/50\n",
            "272/272 [==============================] - 791s 3s/step - loss: 0.5874 - acc: 0.3704 - val_loss: 0.6228 - val_acc: 0.3565\n",
            "Epoch 17/50\n",
            "272/272 [==============================] - 792s 3s/step - loss: 0.5719 - acc: 0.3806 - val_loss: 0.6409 - val_acc: 0.3644\n",
            "Epoch 18/50\n",
            "272/272 [==============================] - 791s 3s/step - loss: 0.5563 - acc: 0.3907 - val_loss: 0.6303 - val_acc: 0.3737\n",
            "Epoch 19/50\n",
            "272/272 [==============================] - 794s 3s/step - loss: 0.5410 - acc: 0.4010 - val_loss: 0.6237 - val_acc: 0.3793\n",
            "Epoch 20/50\n",
            "272/272 [==============================] - 798s 3s/step - loss: 0.5253 - acc: 0.4112 - val_loss: 0.6408 - val_acc: 0.3853\n",
            "Epoch 21/50\n",
            "272/272 [==============================] - 796s 3s/step - loss: 0.5102 - acc: 0.4217 - val_loss: 0.6023 - val_acc: 0.3911\n",
            "Epoch 22/50\n",
            "272/272 [==============================] - 796s 3s/step - loss: 0.4957 - acc: 0.4320 - val_loss: 0.6411 - val_acc: 0.3978\n",
            "Epoch 23/50\n",
            "272/272 [==============================] - 796s 3s/step - loss: 0.4818 - acc: 0.4425 - val_loss: 0.5809 - val_acc: 0.4044\n",
            "Epoch 24/50\n",
            "272/272 [==============================] - 796s 3s/step - loss: 0.4685 - acc: 0.4514 - val_loss: 0.5864 - val_acc: 0.4089\n",
            "Epoch 25/50\n",
            "272/272 [==============================] - 794s 3s/step - loss: 0.4553 - acc: 0.4612 - val_loss: 0.5909 - val_acc: 0.4148\n",
            "Epoch 26/50\n",
            "272/272 [==============================] - 794s 3s/step - loss: 0.4426 - acc: 0.4707 - val_loss: 0.5896 - val_acc: 0.4200\n",
            "Epoch 27/50\n",
            "272/272 [==============================] - 795s 3s/step - loss: 0.4310 - acc: 0.4789 - val_loss: 0.5035 - val_acc: 0.4240\n",
            "Epoch 28/50\n",
            "272/272 [==============================] - 795s 3s/step - loss: 0.4196 - acc: 0.4879 - val_loss: 0.5384 - val_acc: 0.4268\n",
            "Epoch 29/50\n",
            "272/272 [==============================] - 797s 3s/step - loss: 0.4087 - acc: 0.4959 - val_loss: 0.5037 - val_acc: 0.4327\n",
            "Epoch 30/50\n",
            "272/272 [==============================] - 795s 3s/step - loss: 0.3980 - acc: 0.5054 - val_loss: 0.5476 - val_acc: 0.4368\n",
            "Epoch 31/50\n",
            "272/272 [==============================] - 796s 3s/step - loss: 0.3877 - acc: 0.5134 - val_loss: 0.1169 - val_acc: 0.4420\n",
            "Epoch 32/50\n",
            "272/272 [==============================] - 794s 3s/step - loss: 0.3778 - acc: 0.5222 - val_loss: 0.5738 - val_acc: 0.4445\n",
            "Epoch 33/50\n",
            "272/272 [==============================] - 797s 3s/step - loss: 0.3685 - acc: 0.5297 - val_loss: 0.5087 - val_acc: 0.4495\n",
            "Epoch 34/50\n",
            "272/272 [==============================] - 796s 3s/step - loss: 0.3593 - acc: 0.5376 - val_loss: 0.4711 - val_acc: 0.4520\n",
            "Epoch 35/50\n",
            "272/272 [==============================] - 794s 3s/step - loss: 0.3504 - acc: 0.5459 - val_loss: 0.5050 - val_acc: 0.4556\n",
            "Epoch 36/50\n",
            "272/272 [==============================] - 796s 3s/step - loss: 0.3422 - acc: 0.5533 - val_loss: 0.6131 - val_acc: 0.4579\n",
            "Epoch 37/50\n",
            "272/272 [==============================] - 803s 3s/step - loss: 0.3337 - acc: 0.5606 - val_loss: 0.4953 - val_acc: 0.4625\n",
            "Epoch 38/50\n",
            "272/272 [==============================] - 805s 3s/step - loss: 0.3257 - acc: 0.5684 - val_loss: 0.5370 - val_acc: 0.4657\n",
            "Epoch 39/50\n",
            "272/272 [==============================] - 804s 3s/step - loss: 0.3181 - acc: 0.5760 - val_loss: 0.4670 - val_acc: 0.4690\n",
            "Epoch 40/50\n",
            "272/272 [==============================] - 810s 3s/step - loss: 0.3106 - acc: 0.5838 - val_loss: 0.4985 - val_acc: 0.4689\n",
            "Epoch 41/50\n",
            "272/272 [==============================] - 806s 3s/step - loss: 0.3037 - acc: 0.5907 - val_loss: 0.4734 - val_acc: 0.4715\n",
            "Epoch 42/50\n",
            "272/272 [==============================] - 808s 3s/step - loss: 0.2964 - acc: 0.5984 - val_loss: 0.4436 - val_acc: 0.4750\n",
            "Epoch 43/50\n",
            "272/272 [==============================] - 808s 3s/step - loss: 0.2898 - acc: 0.6053 - val_loss: 0.4802 - val_acc: 0.4774\n",
            "Epoch 44/50\n",
            "272/272 [==============================] - 807s 3s/step - loss: 0.2831 - acc: 0.6119 - val_loss: 0.4679 - val_acc: 0.4792\n",
            "Epoch 45/50\n",
            "272/272 [==============================] - 807s 3s/step - loss: 0.2768 - acc: 0.6188 - val_loss: 0.5074 - val_acc: 0.4821\n",
            "Epoch 46/50\n",
            "272/272 [==============================] - 808s 3s/step - loss: 0.2707 - acc: 0.6258 - val_loss: 0.5067 - val_acc: 0.4846\n",
            "Epoch 47/50\n",
            "272/272 [==============================] - 807s 3s/step - loss: 0.2650 - acc: 0.6324 - val_loss: 0.4519 - val_acc: 0.4868\n",
            "Epoch 48/50\n",
            "272/272 [==============================] - 812s 3s/step - loss: 0.2592 - acc: 0.6388 - val_loss: 0.4783 - val_acc: 0.4894\n",
            "Epoch 49/50\n",
            "272/272 [==============================] - 814s 3s/step - loss: 0.2541 - acc: 0.6443 - val_loss: 0.4609 - val_acc: 0.4924\n",
            "Epoch 50/50\n",
            "272/272 [==============================] - 812s 3s/step - loss: 0.2486 - acc: 0.6503 - val_loss: 0.4777 - val_acc: 0.4916\n"
          ],
          "name": "stdout"
        }
      ]
    },
    {
      "cell_type": "markdown",
      "metadata": {
        "id": "2Gl0uRb8_f7X",
        "colab_type": "text"
      },
      "source": [
        "### Always remember to save the weights"
      ]
    },
    {
      "cell_type": "code",
      "metadata": {
        "id": "IzeUjuVm_f7X",
        "colab_type": "code",
        "colab": {}
      },
      "source": [
        "model.save_weights('nmt_weights.h5')"
      ],
      "execution_count": 0,
      "outputs": []
    },
    {
      "cell_type": "code",
      "metadata": {
        "id": "V7NA9fVY-w5D",
        "colab_type": "code",
        "colab": {
          "base_uri": "https://localhost:8080/",
          "height": 295
        },
        "outputId": "c9cd5ca9-1504-4e0b-c8c0-04cab76fd4ea"
      },
      "source": [
        "loss_train = history.history['loss']\n",
        "loss_val = history.history['val_loss']\n",
        "epochs = range(1,51)\n",
        "plt.plot(epochs, loss_train, 'g', label='Training loss')\n",
        "plt.plot(epochs, loss_val, 'b', label='validation loss')\n",
        "plt.title('Training and Validation loss')\n",
        "plt.xlabel('Epochs')\n",
        "plt.ylabel('Loss')\n",
        "plt.legend()\n",
        "plt.show()"
      ],
      "execution_count": 31,
      "outputs": [
        {
          "output_type": "display_data",
          "data": {
            "image/png": "[encoded data removed]",
            "text/plain": [
              "<Figure size 432x288 with 1 Axes>"
            ]
          },
          "metadata": {
            "tags": [],
            "needs_background": "light"
          }
        }
      ]
    },
    {
      "cell_type": "code",
      "metadata": {
        "id": "wrr8m-2y-8mw",
        "colab_type": "code",
        "colab": {
          "base_uri": "https://localhost:8080/",
          "height": 295
        },
        "outputId": "9b94db41-a1e3-42c3-f971-88d1de45a649"
      },
      "source": [
        "loss_train = history.history['acc']\n",
        "loss_val = history.history['val_acc']\n",
        "epochs = range(1,51)\n",
        "plt.plot(epochs, loss_train, 'g', label='Training accuracy')\n",
        "plt.plot(epochs, loss_val, 'b', label='validation accuracy')\n",
        "plt.title('Training and Validation accuracy')\n",
        "plt.xlabel('Epochs')\n",
        "plt.ylabel('Accuracy')\n",
        "plt.legend()\n",
        "plt.show()"
      ],
      "execution_count": 32,
      "outputs": [
        {
          "output_type": "display_data",
          "data": {
            "image/png": "[encoded data removed]",
            "text/plain": [
              "<Figure size 432x288 with 1 Axes>"
            ]
          },
          "metadata": {
            "tags": [],
            "needs_background": "light"
          }
        }
      ]
    },
    {
      "cell_type": "markdown",
      "metadata": {
        "id": "KuBBTjI2_f7a",
        "colab_type": "text"
      },
      "source": [
        "### Load the weights, if you close the application"
      ]
    },
    {
      "cell_type": "code",
      "metadata": {
        "id": "slyxKnJf_f7a",
        "colab_type": "code",
        "colab": {}
      },
      "source": [
        "model.load_weights('nmt_weights.h5')"
      ],
      "execution_count": 0,
      "outputs": []
    },
    {
      "cell_type": "markdown",
      "metadata": {
        "id": "QEZ2nqKp_f7e",
        "colab_type": "text"
      },
      "source": [
        "### Inference Setup"
      ]
    },
    {
      "cell_type": "code",
      "metadata": {
        "id": "6gemlWAD_f7f",
        "colab_type": "code",
        "colab": {}
      },
      "source": [
        "# Encode the input sequence to get the \"thought vectors\"\n",
        "encoder_model = Model(encoder_inputs, encoder_states)\n",
        "\n",
        "# Decoder setup\n",
        "# Below tensors will hold the states of the previous time step\n",
        "decoder_state_input_h = Input(shape=(latent_dim,))\n",
        "decoder_state_input_c = Input(shape=(latent_dim,))\n",
        "decoder_states_inputs = [decoder_state_input_h, decoder_state_input_c]\n",
        "\n",
        "dec_emb2= dec_emb_layer(decoder_inputs) # Get the embeddings of the decoder sequence\n",
        "\n",
        "# To predict the next word in the sequence, set the initial states to the states from the previous time step\n",
        "decoder_outputs2, state_h2, state_c2 = decoder_lstm(dec_emb2, initial_state=decoder_states_inputs)\n",
        "decoder_states2 = [state_h2, state_c2]\n",
        "decoder_outputs2 = decoder_dense(decoder_outputs2) # A dense softmax layer to generate prob dist. over the target vocabulary\n",
        "\n",
        "# Final decoder model\n",
        "decoder_model = Model(\n",
        "    [decoder_inputs] + decoder_states_inputs,\n",
        "    [decoder_outputs2] + decoder_states2)"
      ],
      "execution_count": 0,
      "outputs": []
    },
    {
      "cell_type": "code",
      "metadata": {
        "id": "UHYEjGgs_f7h",
        "colab_type": "code",
        "outputId": "6f0b1b4b-5c16-4f43-82d2-8595e3253bec",
        "colab": {}
      },
      "source": [
        "Image(retina=True, filename='encoder_model.png')"
      ],
      "execution_count": 0,
      "outputs": [
        {
          "output_type": "execute_result",
          "data": {
            "image/png": "[encoded data removed]",
            "text/plain": [
              "<IPython.core.display.Image object>"
            ]
          },
          "metadata": {
            "tags": [],
            "image/png": {
              "height": 147,
              "width": 265
            }
          },
          "execution_count": 2
        }
      ]
    },
    {
      "cell_type": "code",
      "metadata": {
        "id": "H6HrpaQD_f7l",
        "colab_type": "code",
        "outputId": "88304784-8535-4cca-88ec-c6c5f3fc1385",
        "colab": {}
      },
      "source": [
        "Image(retina=True, filename='decoder_model.png')"
      ],
      "execution_count": 0,
      "outputs": [
        {
          "output_type": "execute_result",
          "data": {
            "image/png": "[encoded data removed]",
            "text/plain": [
              "<IPython.core.display.Image object>"
            ]
          },
          "metadata": {
            "tags": [],
            "image/png": {
              "height": 202,
              "width": 623
            }
          },
          "execution_count": 3
        }
      ]
    },
    {
      "cell_type": "markdown",
      "metadata": {
        "id": "TKJx701r_f7n",
        "colab_type": "text"
      },
      "source": [
        "### Decode sample sequeces"
      ]
    },
    {
      "cell_type": "code",
      "metadata": {
        "id": "Mf2rKbBS_f7o",
        "colab_type": "code",
        "colab": {}
      },
      "source": [
        "def decode_sequence(input_seq):\n",
        "    # Encode the input as state vectors.\n",
        "    states_value = encoder_model.predict(input_seq)\n",
        "    # Generate empty target sequence of length 1.\n",
        "    target_seq = np.zeros((1,1))\n",
        "    # Populate the first character of target sequence with the start character.\n",
        "    target_seq[0, 0] = target_token_index['START_']\n",
        "\n",
        "    # Sampling loop for a batch of sequences\n",
        "    # (to simplify, here we assume a batch of size 1).\n",
        "    stop_condition = False\n",
        "    decoded_sentence = ''\n",
        "    while not stop_condition:\n",
        "        output_tokens, h, c = decoder_model.predict([target_seq] + states_value)\n",
        "\n",
        "        # Sample a token\n",
        "        sampled_token_index = np.argmax(output_tokens[0, -1, :])\n",
        "        sampled_char = reverse_target_char_index[sampled_token_index]\n",
        "        decoded_sentence += ' '+sampled_char\n",
        "\n",
        "        # Exit condition: either hit max length\n",
        "        # or find stop character.\n",
        "        if (sampled_char == '_END' or\n",
        "           len(decoded_sentence) > 50):\n",
        "            stop_condition = True\n",
        "\n",
        "        # Update the target sequence (of length 1).\n",
        "        target_seq = np.zeros((1,1))\n",
        "        target_seq[0, 0] = sampled_token_index\n",
        "\n",
        "        # Update states\n",
        "        states_value = [h, c]\n",
        "\n",
        "    return decoded_sentence"
      ],
      "execution_count": 0,
      "outputs": []
    },
    {
      "cell_type": "markdown",
      "metadata": {
        "id": "Zay3RYWR_f7r",
        "colab_type": "text"
      },
      "source": [
        "### Evaluation on Train Dataset"
      ]
    },
    {
      "cell_type": "code",
      "metadata": {
        "id": "s-_JzMgY_f7s",
        "colab_type": "code",
        "colab": {}
      },
      "source": [
        "train_gen = generate_batch(X_train, y_train, batch_size = 1)\n",
        "k=-1"
      ],
      "execution_count": 0,
      "outputs": []
    },
    {
      "cell_type": "code",
      "metadata": {
        "id": "NCZAPAmp_f7w",
        "colab_type": "code",
        "outputId": "5ce69bad-d921-4091-e428-6b188f3f3927",
        "colab": {
          "base_uri": "https://localhost:8080/",
          "height": 68
        }
      },
      "source": [
        "k+=1\n",
        "(input_seq, actual_output), _ = next(train_gen)\n",
        "decoded_sentence = decode_sequence(input_seq)\n",
        "print('Input English sentence:', X_train[k:k+1].values[0])\n",
        "print('Actual Marathi Translation:', y_train[k:k+1].values[0][6:-4])\n",
        "print('Predicted Marathi Translation:', decoded_sentence[:-4])"
      ],
      "execution_count": 34,
      "outputs": [
        {
          "output_type": "stream",
          "text": [
            "Input English sentence: i wanted to show you first\n",
            "Actual Marathi Translation:  पहिलं मला तुम्हाला दाखवायचं होतं \n",
            "Predicted Marathi Translation:  मला तुला टॉमला काही दिसलं नाहीत \n"
          ],
          "name": "stdout"
        }
      ]
    },
    {
      "cell_type": "code",
      "metadata": {
        "id": "A9QPPJdF_f70",
        "colab_type": "code",
        "outputId": "2613ff9e-9f58-4bf1-d41c-52bec7c5bc06",
        "colab": {
          "base_uri": "https://localhost:8080/",
          "height": 68
        }
      },
      "source": [
        "k+=1\n",
        "(input_seq, actual_output), _ = next(train_gen)\n",
        "decoded_sentence = decode_sequence(input_seq)\n",
        "print('Input English sentence:', X_train[k:k+1].values[0])\n",
        "print('Actual Marathi Translation:', y_train[k:k+1].values[0][6:-4])\n",
        "print('Predicted Marathi Translation:', decoded_sentence[:-4])"
      ],
      "execution_count": 35,
      "outputs": [
        {
          "output_type": "stream",
          "text": [
            "Input English sentence: they want to meet you\n",
            "Actual Marathi Translation:  त्यांना तुम्हाला भेटायचं आहे \n",
            "Predicted Marathi Translation:  त्यांना तुला भेटायचं आहे \n"
          ],
          "name": "stdout"
        }
      ]
    },
    {
      "cell_type": "code",
      "metadata": {
        "id": "FNTyrLLj_f74",
        "colab_type": "code",
        "outputId": "85cecf72-d605-42f6-8486-8e6f32ff3dc2",
        "colab": {
          "base_uri": "https://localhost:8080/",
          "height": 68
        }
      },
      "source": [
        "k+=1\n",
        "(input_seq, actual_output), _ = next(train_gen)\n",
        "decoded_sentence = decode_sequence(input_seq)\n",
        "print('Input English sentence:', X_train[k:k+1].values[0])\n",
        "print('Actual Marathi Translation:', y_train[k:k+1].values[0][6:-4])\n",
        "print('Predicted Marathi Translation:', decoded_sentence[:-4])"
      ],
      "execution_count": 36,
      "outputs": [
        {
          "output_type": "stream",
          "text": [
            "Input English sentence: i make my own rules\n",
            "Actual Marathi Translation:  मी स्वतःचेच नियम बनवतो \n",
            "Predicted Marathi Translation:  मी माझा जन्म आलो आहे का \n"
          ],
          "name": "stdout"
        }
      ]
    },
    {
      "cell_type": "code",
      "metadata": {
        "id": "NUQTBFBO_f77",
        "colab_type": "code",
        "outputId": "9db39037-1f7d-4dfc-d056-19c6e757fde5",
        "colab": {
          "base_uri": "https://localhost:8080/",
          "height": 68
        }
      },
      "source": [
        "k+=1\n",
        "(input_seq, actual_output), _ = next(train_gen)\n",
        "decoded_sentence = decode_sequence(input_seq)\n",
        "print('Input English sentence:', X_train[k:k+1].values[0])\n",
        "print('Actual Marathi Translation:', y_train[k:k+1].values[0][6:-4])\n",
        "print('Predicted Marathi Translation:', decoded_sentence[:-4])"
      ],
      "execution_count": 37,
      "outputs": [
        {
          "output_type": "stream",
          "text": [
            "Input English sentence: it was my grandfather that told me that story\n",
            "Actual Marathi Translation:  मला ज्यांनी ती गोष्ट सांगितली ते म्हणजे माझे आजोबा \n",
            "Predicted Marathi Translation:  माझी गोष्ट ते माझी गोष्ट काय करतात \n"
          ],
          "name": "stdout"
        }
      ]
    },
    {
      "cell_type": "code",
      "metadata": {
        "id": "fz8AKvXo_f8B",
        "colab_type": "code",
        "outputId": "0056625d-3e97-4149-9b48-d98a6d01f890",
        "colab": {
          "base_uri": "https://localhost:8080/",
          "height": 68
        }
      },
      "source": [
        "k+=1\n",
        "(input_seq, actual_output), _ = next(train_gen)\n",
        "decoded_sentence = decode_sequence(input_seq)\n",
        "print('Input English sentence:', X_train[k:k+1].values[0])\n",
        "print('Actual Marathi Translation:', y_train[k:k+1].values[0][6:-4])\n",
        "print('Predicted Marathi Translation:', decoded_sentence[:-4])"
      ],
      "execution_count": 38,
      "outputs": [
        {
          "output_type": "stream",
          "text": [
            "Input English sentence: i saw a woman in black\n",
            "Actual Marathi Translation:  मी एका काळे कपडे घातलेल्या एका स्त्रीला पाहिलं \n",
            "Predicted Marathi Translation:  मी एका मुलीला एक बाटली लागली \n"
          ],
          "name": "stdout"
        }
      ]
    },
    {
      "cell_type": "code",
      "metadata": {
        "id": "IHK6wxTt_f8H",
        "colab_type": "code",
        "outputId": "5aa53643-644c-44bc-a8e7-5a476eb2794f",
        "colab": {
          "base_uri": "https://localhost:8080/",
          "height": 68
        }
      },
      "source": [
        "k+=1\n",
        "(input_seq, actual_output), _ = next(train_gen)\n",
        "decoded_sentence = decode_sequence(input_seq)\n",
        "print('Input English sentence:', X_train[k:k+1].values[0])\n",
        "print('Actual Marathi Translation:', y_train[k:k+1].values[0][6:-4])\n",
        "print('Predicted Marathi Translation:', decoded_sentence[:-4])"
      ],
      "execution_count": 39,
      "outputs": [
        {
          "output_type": "stream",
          "text": [
            "Input English sentence: what a big dog that is\n",
            "Actual Marathi Translation:  काय मोठा कुत्रा आहे तो \n",
            "Predicted Marathi Translation:  त्याचा कुत्रा काय आहे की तो प्रसिद्ध आहे \n"
          ],
          "name": "stdout"
        }
      ]
    },
    {
      "cell_type": "code",
      "metadata": {
        "id": "cmsm_caH_f8J",
        "colab_type": "code",
        "outputId": "291a2e74-4017-46ed-aeee-24e25eed891f",
        "colab": {
          "base_uri": "https://localhost:8080/",
          "height": 68
        }
      },
      "source": [
        "k+=1\n",
        "(input_seq, actual_output), _ = next(train_gen)\n",
        "decoded_sentence = decode_sequence(input_seq)\n",
        "print('Input English sentence:', X_train[k:k+1].values[0])\n",
        "print('Actual Marathi Translation:', y_train[k:k+1].values[0][6:-4])\n",
        "print('Predicted Marathi Translation:', decoded_sentence[:-4])"
      ],
      "execution_count": 40,
      "outputs": [
        {
          "output_type": "stream",
          "text": [
            "Input English sentence: i am in rome now\n",
            "Actual Marathi Translation:  मी आता रोममध्ये आहे \n",
            "Predicted Marathi Translation:  मी आता खेळ नाहीये \n"
          ],
          "name": "stdout"
        }
      ]
    },
    {
      "cell_type": "code",
      "metadata": {
        "id": "7-mrVBBm_f8O",
        "colab_type": "code",
        "outputId": "d63d4483-d29b-4a2b-ae06-18be5c41d677",
        "colab": {
          "base_uri": "https://localhost:8080/",
          "height": 68
        }
      },
      "source": [
        "k+=1\n",
        "(input_seq, actual_output), _ = next(train_gen)\n",
        "decoded_sentence = decode_sequence(input_seq)\n",
        "print('Input English sentence:', X_train[k:k+1].values[0])\n",
        "print('Actual Marathi Translation:', y_train[k:k+1].values[0][6:-4])\n",
        "print('Predicted Marathi Translation:', decoded_sentence[:-4])"
      ],
      "execution_count": 41,
      "outputs": [
        {
          "output_type": "stream",
          "text": [
            "Input English sentence: dont get me flowers anymore\n",
            "Actual Marathi Translation:  माझ्यासाठी आतापासून फुलं आणू नकोस \n",
            "Predicted Marathi Translation:  मला अजूनही जागा आवडत नाही \n"
          ],
          "name": "stdout"
        }
      ]
    },
    {
      "cell_type": "code",
      "metadata": {
        "id": "GevDnGs0_f8T",
        "colab_type": "code",
        "outputId": "01cf8e81-8faa-4245-e3b5-6321c673f6d3",
        "colab": {
          "base_uri": "https://localhost:8080/",
          "height": 68
        }
      },
      "source": [
        "k+=1\n",
        "(input_seq, actual_output), _ = next(train_gen)\n",
        "decoded_sentence = decode_sequence(input_seq)\n",
        "print('Input English sentence:', X_train[k:k+1].values[0])\n",
        "print('Actual Marathi Translation:', y_train[k:k+1].values[0][6:-4])\n",
        "print('Predicted Marathi Translation:', decoded_sentence[:-4])"
      ],
      "execution_count": 42,
      "outputs": [
        {
          "output_type": "stream",
          "text": [
            "Input English sentence: do it somewhere else\n",
            "Actual Marathi Translation:  कुठेतरी दुसरीकडे जाऊन कर \n",
            "Predicted Marathi Translation:  कुठेतरी कुठेतरी जायला काढून टाकलं आहे \n"
          ],
          "name": "stdout"
        }
      ]
    },
    {
      "cell_type": "code",
      "metadata": {
        "id": "g3bK1gJy_f8X",
        "colab_type": "code",
        "outputId": "c71ad033-2256-4371-8d44-f2ce1c3025e7",
        "colab": {
          "base_uri": "https://localhost:8080/",
          "height": 68
        }
      },
      "source": [
        "k+=1\n",
        "(input_seq, actual_output), _ = next(train_gen)\n",
        "decoded_sentence = decode_sequence(input_seq)\n",
        "print('Input English sentence:', X_train[k:k+1].values[0])\n",
        "print('Actual Marathi Translation:', y_train[k:k+1].values[0][6:-4])\n",
        "print('Predicted Marathi Translation:', decoded_sentence[:-4])"
      ],
      "execution_count": 43,
      "outputs": [
        {
          "output_type": "stream",
          "text": [
            "Input English sentence: were you really in boston\n",
            "Actual Marathi Translation:  तू खरच बॉस्टनमध्ये होतीस का \n",
            "Predicted Marathi Translation:  तू खरच बॉस्टनमध्ये होतास का \n"
          ],
          "name": "stdout"
        }
      ]
    },
    {
      "cell_type": "code",
      "metadata": {
        "id": "77jndiaM_f8c",
        "colab_type": "code",
        "outputId": "f4aa5440-eb7d-4a6b-eb01-8314dd0463d9",
        "colab": {
          "base_uri": "https://localhost:8080/",
          "height": 68
        }
      },
      "source": [
        "k+=1\n",
        "(input_seq, actual_output), _ = next(train_gen)\n",
        "decoded_sentence = decode_sequence(input_seq)\n",
        "print('Input English sentence:', X_train[k:k+1].values[0])\n",
        "print('Actual Marathi Translation:', y_train[k:k+1].values[0][6:-4])\n",
        "print('Predicted Marathi Translation:', decoded_sentence[:-4])"
      ],
      "execution_count": 44,
      "outputs": [
        {
          "output_type": "stream",
          "text": [
            "Input English sentence: should i tell tom\n",
            "Actual Marathi Translation:  मी टॉमला सांगू का \n",
            "Predicted Marathi Translation:  टॉमला ते कोणाला हवं आहे का \n"
          ],
          "name": "stdout"
        }
      ]
    },
    {
      "cell_type": "code",
      "metadata": {
        "id": "zoi8mAsa_f8h",
        "colab_type": "code",
        "outputId": "59cd203f-a61a-40c0-a041-a338e4789936",
        "colab": {
          "base_uri": "https://localhost:8080/",
          "height": 68
        }
      },
      "source": [
        "k+=1\n",
        "(input_seq, actual_output), _ = next(train_gen)\n",
        "decoded_sentence = decode_sequence(input_seq)\n",
        "print('Input English sentence:', X_train[k:k+1].values[0])\n",
        "print('Actual Marathi Translation:', y_train[k:k+1].values[0][6:-4])\n",
        "print('Predicted Marathi Translation:', decoded_sentence[:-4])"
      ],
      "execution_count": 45,
      "outputs": [
        {
          "output_type": "stream",
          "text": [
            "Input English sentence: in america we usually buy eggs by the dozen\n",
            "Actual Marathi Translation:  अमेरिकेत आपण डझनाच्या हिशोबाने अंडी विकत घेतो \n",
            "Predicted Marathi Translation:  अमेरिकेत आपण डझनाच्या हिशोबाने अंडी विकत घेतली \n"
          ],
          "name": "stdout"
        }
      ]
    },
    {
      "cell_type": "code",
      "metadata": {
        "id": "yE6bb0Uw_f8k",
        "colab_type": "code",
        "outputId": "b5551165-e255-4efd-9f08-07c9493c4d08",
        "colab": {
          "base_uri": "https://localhost:8080/",
          "height": 68
        }
      },
      "source": [
        "k+=1\n",
        "(input_seq, actual_output), _ = next(train_gen)\n",
        "decoded_sentence = decode_sequence(input_seq)\n",
        "print('Input English sentence:', X_train[k:k+1].values[0])\n",
        "print('Actual Marathi Translation:', y_train[k:k+1].values[0][6:-4])\n",
        "print('Predicted Marathi Translation:', decoded_sentence[:-4])"
      ],
      "execution_count": 46,
      "outputs": [
        {
          "output_type": "stream",
          "text": [
            "Input English sentence: i caught the ball with one hand\n",
            "Actual Marathi Translation:  मी एका हाताने चेंडू पकडला \n",
            "Predicted Marathi Translation:  मी बंदूक हरवली \n"
          ],
          "name": "stdout"
        }
      ]
    },
    {
      "cell_type": "code",
      "metadata": {
        "id": "lFbGMM2L_f8n",
        "colab_type": "code",
        "outputId": "b94347b4-0b0b-4828-eeba-907533927355",
        "colab": {
          "base_uri": "https://localhost:8080/",
          "height": 68
        }
      },
      "source": [
        "k+=1\n",
        "(input_seq, actual_output), _ = next(train_gen)\n",
        "decoded_sentence = decode_sequence(input_seq)\n",
        "print('Input English sentence:', X_train[k:k+1].values[0])\n",
        "print('Actual Marathi Translation:', y_train[k:k+1].values[0][6:-4])\n",
        "print('Predicted Marathi Translation:', decoded_sentence[:-4])"
      ],
      "execution_count": 47,
      "outputs": [
        {
          "output_type": "stream",
          "text": [
            "Input English sentence: they should arrive by ten oclock\n",
            "Actual Marathi Translation:  ते दहा वाजेपर्यंत यायला पाहिजेत \n",
            "Predicted Marathi Translation:  ते बसने जातात \n"
          ],
          "name": "stdout"
        }
      ]
    },
    {
      "cell_type": "code",
      "metadata": {
        "id": "ZnNoAdd4_f8p",
        "colab_type": "code",
        "outputId": "85514034-a721-4254-850e-e1bffaeeb148",
        "colab": {
          "base_uri": "https://localhost:8080/",
          "height": 68
        }
      },
      "source": [
        "k+=1\n",
        "(input_seq, actual_output), _ = next(train_gen)\n",
        "decoded_sentence = decode_sequence(input_seq)\n",
        "print('Input English sentence:', X_train[k:k+1].values[0])\n",
        "print('Actual Marathi Translation:', y_train[k:k+1].values[0][6:-4])\n",
        "print('Predicted Marathi Translation:', decoded_sentence[:-4])"
      ],
      "execution_count": 48,
      "outputs": [
        {
          "output_type": "stream",
          "text": [
            "Input English sentence: who needs computers\n",
            "Actual Marathi Translation:  संगणक कोणाला लागतात \n",
            "Predicted Marathi Translation:  कोणाला उत्तरं आहेत \n"
          ],
          "name": "stdout"
        }
      ]
    },
    {
      "cell_type": "code",
      "metadata": {
        "id": "HrQuvLmn_f8r",
        "colab_type": "code",
        "outputId": "6301b07d-ac92-459e-9c31-046fc754cf25",
        "colab": {
          "base_uri": "https://localhost:8080/",
          "height": 68
        }
      },
      "source": [
        "k+=1\n",
        "(input_seq, actual_output), _ = next(train_gen)\n",
        "decoded_sentence = decode_sequence(input_seq)\n",
        "print('Input English sentence:', X_train[k:k+1].values[0])\n",
        "print('Actual Marathi Translation:', y_train[k:k+1].values[0][6:-4])\n",
        "print('Predicted Marathi Translation:', decoded_sentence[:-4])"
      ],
      "execution_count": 49,
      "outputs": [
        {
          "output_type": "stream",
          "text": [
            "Input English sentence: sri lanka is a beautiful island\n",
            "Actual Marathi Translation:  श्रीलंका एक सुंदर बेट आहे \n",
            "Predicted Marathi Translation:  श्रीलंका एक सुंदर एक सुंदर आहे \n"
          ],
          "name": "stdout"
        }
      ]
    },
    {
      "cell_type": "code",
      "metadata": {
        "id": "N8fzGPro_f80",
        "colab_type": "code",
        "outputId": "90ebac8b-fb7d-4811-fc45-0215ca870e70",
        "colab": {
          "base_uri": "https://localhost:8080/",
          "height": 68
        }
      },
      "source": [
        "k+=1\n",
        "(input_seq, actual_output), _ = next(train_gen)\n",
        "decoded_sentence = decode_sequence(input_seq)\n",
        "print('Input English sentence:', X_train[k:k+1].values[0])\n",
        "print('Actual Marathi Translation:', y_train[k:k+1].values[0][6:-4])\n",
        "print('Predicted Marathi Translation:', decoded_sentence[:-4])"
      ],
      "execution_count": 50,
      "outputs": [
        {
          "output_type": "stream",
          "text": [
            "Input English sentence: i learned that from you\n",
            "Actual Marathi Translation:  ते मी तुमच्यापासून शिकले \n",
            "Predicted Marathi Translation:  मी ते जपानी राहतो ना \n"
          ],
          "name": "stdout"
        }
      ]
    },
    {
      "cell_type": "code",
      "metadata": {
        "id": "zyCWYSs2_f84",
        "colab_type": "code",
        "outputId": "fd0e8cf5-31a6-41ff-9d42-0fb2e0995c87",
        "colab": {
          "base_uri": "https://localhost:8080/",
          "height": 68
        }
      },
      "source": [
        "k+=1\n",
        "(input_seq, actual_output), _ = next(train_gen)\n",
        "decoded_sentence = decode_sequence(input_seq)\n",
        "print('Input English sentence:', X_train[k:k+1].values[0])\n",
        "print('Actual Marathi Translation:', y_train[k:k+1].values[0][6:-4])\n",
        "print('Predicted Marathi Translation:', decoded_sentence[:-4])"
      ],
      "execution_count": 51,
      "outputs": [
        {
          "output_type": "stream",
          "text": [
            "Input English sentence: i want to see your mother\n",
            "Actual Marathi Translation:  मला तुमच्या आईंना बघायचं आहे \n",
            "Predicted Marathi Translation:  मला तुझ्या आईला बघायचं आहे \n"
          ],
          "name": "stdout"
        }
      ]
    },
    {
      "cell_type": "code",
      "metadata": {
        "id": "TugKefAw_f89",
        "colab_type": "code",
        "outputId": "a688f78a-a588-4a01-8075-54c7aaa7e51d",
        "colab": {
          "base_uri": "https://localhost:8080/",
          "height": 68
        }
      },
      "source": [
        "k+=1\n",
        "(input_seq, actual_output), _ = next(train_gen)\n",
        "decoded_sentence = decode_sequence(input_seq)\n",
        "print('Input English sentence:', X_train[k:k+1].values[0])\n",
        "print('Actual Marathi Translation:', y_train[k:k+1].values[0][6:-4])\n",
        "print('Predicted Marathi Translation:', decoded_sentence[:-4])"
      ],
      "execution_count": 52,
      "outputs": [
        {
          "output_type": "stream",
          "text": [
            "Input English sentence: he even criticized george washington\n",
            "Actual Marathi Translation:  त्यांनी तर जॉर्ज वॉशिंग्टनचीही टीका केली \n",
            "Predicted Marathi Translation:  त्याने बहुधा स्टेक आयात करतो \n"
          ],
          "name": "stdout"
        }
      ]
    },
    {
      "cell_type": "code",
      "metadata": {
        "id": "pg6VJvDI_f9A",
        "colab_type": "code",
        "outputId": "dadefe9e-b029-4241-a614-4cc6c3eeb06b",
        "colab": {
          "base_uri": "https://localhost:8080/",
          "height": 68
        }
      },
      "source": [
        "k+=1\n",
        "(input_seq, actual_output), _ = next(train_gen)\n",
        "decoded_sentence = decode_sequence(input_seq)\n",
        "print('Input English sentence:', X_train[k:k+1].values[0])\n",
        "print('Actual Marathi Translation:', y_train[k:k+1].values[0][6:-4])\n",
        "print('Predicted Marathi Translation:', decoded_sentence[:-4])"
      ],
      "execution_count": 53,
      "outputs": [
        {
          "output_type": "stream",
          "text": [
            "Input English sentence: thats all we want\n",
            "Actual Marathi Translation:  आम्हाला तितकंच हवं आहे \n",
            "Predicted Marathi Translation:  आम्हाला ते किती तास नाहीये \n"
          ],
          "name": "stdout"
        }
      ]
    },
    {
      "cell_type": "code",
      "metadata": {
        "id": "dXI6v1k__f9F",
        "colab_type": "code",
        "outputId": "4f7327ed-9ad3-4ad2-ad3f-68d30e77462a",
        "colab": {
          "base_uri": "https://localhost:8080/",
          "height": 68
        }
      },
      "source": [
        "k+=1\n",
        "(input_seq, actual_output), _ = next(train_gen)\n",
        "decoded_sentence = decode_sequence(input_seq)\n",
        "print('Input English sentence:', X_train[k:k+1].values[0])\n",
        "print('Actual Marathi Translation:', y_train[k:k+1].values[0][6:-4])\n",
        "print('Predicted Marathi Translation:', decoded_sentence[:-4])"
      ],
      "execution_count": 54,
      "outputs": [
        {
          "output_type": "stream",
          "text": [
            "Input English sentence: leave it to me\n",
            "Actual Marathi Translation:  माझ्यावर सोड \n",
            "Predicted Marathi Translation:  मला सोड \n"
          ],
          "name": "stdout"
        }
      ]
    },
    {
      "cell_type": "code",
      "metadata": {
        "id": "psFBkWJL_f9L",
        "colab_type": "code",
        "outputId": "5d474ddb-8f53-4349-ae6e-ed4f1393ac70",
        "colab": {
          "base_uri": "https://localhost:8080/",
          "height": 68
        }
      },
      "source": [
        "k+=1\n",
        "(input_seq, actual_output), _ = next(train_gen)\n",
        "decoded_sentence = decode_sequence(input_seq)\n",
        "print('Input English sentence:', X_train[k:k+1].values[0])\n",
        "print('Actual Marathi Translation:', y_train[k:k+1].values[0][6:-4])\n",
        "print('Predicted Marathi Translation:', decoded_sentence[:-4])"
      ],
      "execution_count": 55,
      "outputs": [
        {
          "output_type": "stream",
          "text": [
            "Input English sentence: luck had nothing to do with it\n",
            "Actual Marathi Translation:  त्यात नशीबाचा हात नव्हता \n",
            "Predicted Marathi Translation:  त्यात नशीबाचा हात नकोस \n"
          ],
          "name": "stdout"
        }
      ]
    },
    {
      "cell_type": "code",
      "metadata": {
        "id": "gF74r2su_f9O",
        "colab_type": "code",
        "outputId": "ea7683fd-beb3-45a6-a394-62620e5dd991",
        "colab": {
          "base_uri": "https://localhost:8080/",
          "height": 68
        }
      },
      "source": [
        "k+=1\n",
        "(input_seq, actual_output), _ = next(train_gen)\n",
        "decoded_sentence = decode_sequence(input_seq)\n",
        "print('Input English sentence:', X_train[k:k+1].values[0])\n",
        "print('Actual Marathi Translation:', y_train[k:k+1].values[0][6:-4])\n",
        "print('Predicted Marathi Translation:', decoded_sentence[:-4])"
      ],
      "execution_count": 56,
      "outputs": [
        {
          "output_type": "stream",
          "text": [
            "Input English sentence: we do everything together\n",
            "Actual Marathi Translation:  आपण सगळ्या गोष्टी एकत्र करतो \n",
            "Predicted Marathi Translation:  आपण एकत्र सर्वकाही करायला \n"
          ],
          "name": "stdout"
        }
      ]
    },
    {
      "cell_type": "code",
      "metadata": {
        "id": "-IA78S9J_f9T",
        "colab_type": "code",
        "outputId": "a944ac41-1ad5-483a-b307-8a416107775b",
        "colab": {
          "base_uri": "https://localhost:8080/",
          "height": 68
        }
      },
      "source": [
        "k+=1\n",
        "(input_seq, actual_output), _ = next(train_gen)\n",
        "decoded_sentence = decode_sequence(input_seq)\n",
        "print('Input English sentence:', X_train[k:k+1].values[0])\n",
        "print('Actual Marathi Translation:', y_train[k:k+1].values[0][6:-4])\n",
        "print('Predicted Marathi Translation:', decoded_sentence[:-4])"
      ],
      "execution_count": 57,
      "outputs": [
        {
          "output_type": "stream",
          "text": [
            "Input English sentence: there are many cockroaches in the kitchen\n",
            "Actual Marathi Translation:  स्वयंपाकघरात भरपूर झुरळं आहेत \n",
            "Predicted Marathi Translation:  स्वयंपाकघरात भरपूर पाणी होती \n"
          ],
          "name": "stdout"
        }
      ]
    },
    {
      "cell_type": "code",
      "metadata": {
        "id": "wDMQ_zah_f9W",
        "colab_type": "code",
        "outputId": "6112da97-a81b-4744-bb6c-8cdafdb1bf82",
        "colab": {
          "base_uri": "https://localhost:8080/",
          "height": 68
        }
      },
      "source": [
        "k+=1\n",
        "(input_seq, actual_output), _ = next(train_gen)\n",
        "decoded_sentence = decode_sequence(input_seq)\n",
        "print('Input English sentence:', X_train[k:k+1].values[0])\n",
        "print('Actual Marathi Translation:', y_train[k:k+1].values[0][6:-4])\n",
        "print('Predicted Marathi Translation:', decoded_sentence[:-4])"
      ],
      "execution_count": 58,
      "outputs": [
        {
          "output_type": "stream",
          "text": [
            "Input English sentence: its only blood\n",
            "Actual Marathi Translation:  रक्तच तर आहे \n",
            "Predicted Marathi Translation:  रक्तच आहे \n"
          ],
          "name": "stdout"
        }
      ]
    },
    {
      "cell_type": "code",
      "metadata": {
        "id": "5cM2EsQS_f9Z",
        "colab_type": "code",
        "outputId": "07c07099-2773-4c41-a697-abd3da7527c6",
        "colab": {
          "base_uri": "https://localhost:8080/",
          "height": 68
        }
      },
      "source": [
        "k+=1\n",
        "(input_seq, actual_output), _ = next(train_gen)\n",
        "decoded_sentence = decode_sequence(input_seq)\n",
        "print('Input English sentence:', X_train[k:k+1].values[0])\n",
        "print('Actual Marathi Translation:', y_train[k:k+1].values[0][6:-4])\n",
        "print('Predicted Marathi Translation:', decoded_sentence[:-4])"
      ],
      "execution_count": 59,
      "outputs": [
        {
          "output_type": "stream",
          "text": [
            "Input English sentence: we didnt get it\n",
            "Actual Marathi Translation:  आम्हाला कळलं नाही \n",
            "Predicted Marathi Translation:  आपण विसरू नकोस \n"
          ],
          "name": "stdout"
        }
      ]
    },
    {
      "cell_type": "code",
      "metadata": {
        "id": "qZWuiiPM_f9b",
        "colab_type": "code",
        "outputId": "a3115c73-b84c-49d8-e5b1-76b63a6f3b62",
        "colab": {
          "base_uri": "https://localhost:8080/",
          "height": 68
        }
      },
      "source": [
        "k+=1\n",
        "(input_seq, actual_output), _ = next(train_gen)\n",
        "decoded_sentence = decode_sequence(input_seq)\n",
        "print('Input English sentence:', X_train[k:k+1].values[0])\n",
        "print('Actual Marathi Translation:', y_train[k:k+1].values[0][6:-4])\n",
        "print('Predicted Marathi Translation:', decoded_sentence[:-4])"
      ],
      "execution_count": 60,
      "outputs": [
        {
          "output_type": "stream",
          "text": [
            "Input English sentence: im still sick\n",
            "Actual Marathi Translation:  मी अजूनही आजारी आहे \n",
            "Predicted Marathi Translation:  मी अजूनही आजारी आहे \n"
          ],
          "name": "stdout"
        }
      ]
    },
    {
      "cell_type": "code",
      "metadata": {
        "id": "PzKMd_1l_f9f",
        "colab_type": "code",
        "outputId": "705db4d9-c4ea-4948-dab2-1b60aa4296e5",
        "colab": {
          "base_uri": "https://localhost:8080/",
          "height": 68
        }
      },
      "source": [
        "k+=1\n",
        "(input_seq, actual_output), _ = next(train_gen)\n",
        "decoded_sentence = decode_sequence(input_seq)\n",
        "print('Input English sentence:', X_train[k:k+1].values[0])\n",
        "print('Actual Marathi Translation:', y_train[k:k+1].values[0][6:-4])\n",
        "print('Predicted Marathi Translation:', decoded_sentence[:-4])"
      ],
      "execution_count": 61,
      "outputs": [
        {
          "output_type": "stream",
          "text": [
            "Input English sentence: tell the truth to tom\n",
            "Actual Marathi Translation:  टॉमला खरं सांगा \n",
            "Predicted Marathi Translation:  टॉमला खरं सांगितलं \n"
          ],
          "name": "stdout"
        }
      ]
    },
    {
      "cell_type": "code",
      "metadata": {
        "id": "e7N_mK8q_f9g",
        "colab_type": "code",
        "outputId": "ed8036fd-a255-414d-dbaf-095ad7621c09",
        "colab": {
          "base_uri": "https://localhost:8080/",
          "height": 68
        }
      },
      "source": [
        "k+=1\n",
        "(input_seq, actual_output), _ = next(train_gen)\n",
        "decoded_sentence = decode_sequence(input_seq)\n",
        "print('Input English sentence:', X_train[k:k+1].values[0])\n",
        "print('Actual Marathi Translation:', y_train[k:k+1].values[0][6:-4])\n",
        "print('Predicted Marathi Translation:', decoded_sentence[:-4])"
      ],
      "execution_count": 62,
      "outputs": [
        {
          "output_type": "stream",
          "text": [
            "Input English sentence: tom gave mary a dollar\n",
            "Actual Marathi Translation:  टॉमने मेरीला एक डॉलर दिला \n",
            "Predicted Marathi Translation:  टॉमने मेरीला एक ग्लास पाणी घेतलं \n"
          ],
          "name": "stdout"
        }
      ]
    },
    {
      "cell_type": "code",
      "metadata": {
        "id": "snpjhUYY_f9j",
        "colab_type": "code",
        "outputId": "7c0cdd5d-cd79-452b-99c4-a86b521d92d4",
        "colab": {
          "base_uri": "https://localhost:8080/",
          "height": 68
        }
      },
      "source": [
        "k+=1\n",
        "(input_seq, actual_output), _ = next(train_gen)\n",
        "decoded_sentence = decode_sequence(input_seq)\n",
        "print('Input English sentence:', X_train[k:k+1].values[0])\n",
        "print('Actual Marathi Translation:', y_train[k:k+1].values[0][6:-4])\n",
        "print('Predicted Marathi Translation:', decoded_sentence[:-4])"
      ],
      "execution_count": 63,
      "outputs": [
        {
          "output_type": "stream",
          "text": [
            "Input English sentence: this photo was taken on monday\n",
            "Actual Marathi Translation:  हा फोटो सोमवारी काढलेला \n",
            "Predicted Marathi Translation:  हा फोटो सोमवारी काढलेला \n"
          ],
          "name": "stdout"
        }
      ]
    },
    {
      "cell_type": "code",
      "metadata": {
        "id": "4B9VxWFC_f9l",
        "colab_type": "code",
        "outputId": "27954f71-f61a-43b8-a899-21435d020374",
        "colab": {
          "base_uri": "https://localhost:8080/",
          "height": 68
        }
      },
      "source": [
        "k+=1\n",
        "(input_seq, actual_output), _ = next(train_gen)\n",
        "decoded_sentence = decode_sequence(input_seq)\n",
        "print('Input English sentence:', X_train[k:k+1].values[0])\n",
        "print('Actual Marathi Translation:', y_train[k:k+1].values[0][6:-4])\n",
        "print('Predicted Marathi Translation:', decoded_sentence[:-4])"
      ],
      "execution_count": 64,
      "outputs": [
        {
          "output_type": "stream",
          "text": [
            "Input English sentence: it is under the chair\n",
            "Actual Marathi Translation:  खुर्चीखाली आहे \n",
            "Predicted Marathi Translation:  खुर्चीखाली आहे \n"
          ],
          "name": "stdout"
        }
      ]
    },
    {
      "cell_type": "code",
      "metadata": {
        "id": "4T6hvKa4_f9m",
        "colab_type": "code",
        "outputId": "4d0d852c-acb8-490f-9167-c6de9de20a5d",
        "colab": {
          "base_uri": "https://localhost:8080/",
          "height": 68
        }
      },
      "source": [
        "k+=1\n",
        "(input_seq, actual_output), _ = next(train_gen)\n",
        "decoded_sentence = decode_sequence(input_seq)\n",
        "print('Input English sentence:', X_train[k:k+1].values[0])\n",
        "print('Actual Marathi Translation:', y_train[k:k+1].values[0][6:-4])\n",
        "print('Predicted Marathi Translation:', decoded_sentence[:-4])"
      ],
      "execution_count": 65,
      "outputs": [
        {
          "output_type": "stream",
          "text": [
            "Input English sentence: he deals in whiskey\n",
            "Actual Marathi Translation:  ते व्हिस्कीचा व्यापार करतात \n",
            "Predicted Marathi Translation:  तो व्हिस्कीचा व्यापार करतो \n"
          ],
          "name": "stdout"
        }
      ]
    },
    {
      "cell_type": "code",
      "metadata": {
        "id": "Cx5GNjE__f9o",
        "colab_type": "code",
        "outputId": "7f83b203-47b3-43bd-c3ea-9ab1c839af28",
        "colab": {
          "base_uri": "https://localhost:8080/",
          "height": 68
        }
      },
      "source": [
        "k+=1\n",
        "(input_seq, actual_output), _ = next(train_gen)\n",
        "decoded_sentence = decode_sequence(input_seq)\n",
        "print('Input English sentence:', X_train[k:k+1].values[0])\n",
        "print('Actual Marathi Translation:', y_train[k:k+1].values[0][6:-4])\n",
        "print('Predicted Marathi Translation:', decoded_sentence[:-4])"
      ],
      "execution_count": 66,
      "outputs": [
        {
          "output_type": "stream",
          "text": [
            "Input English sentence: glass is made from sand\n",
            "Actual Marathi Translation:  काच वाळूपासून बनवली जाते \n",
            "Predicted Marathi Translation:  काच वाळूपासून बनवली जाते \n"
          ],
          "name": "stdout"
        }
      ]
    },
    {
      "cell_type": "code",
      "metadata": {
        "id": "5MZOJNdd_f9p",
        "colab_type": "code",
        "outputId": "f6d49cda-81c6-4770-e3b8-14d22db54050",
        "colab": {
          "base_uri": "https://localhost:8080/",
          "height": 68
        }
      },
      "source": [
        "k+=1\n",
        "(input_seq, actual_output), _ = next(train_gen)\n",
        "decoded_sentence = decode_sequence(input_seq)\n",
        "print('Input English sentence:', X_train[k:k+1].values[0])\n",
        "print('Actual Marathi Translation:', y_train[k:k+1].values[0][6:-4])\n",
        "print('Predicted Marathi Translation:', decoded_sentence[:-4])"
      ],
      "execution_count": 67,
      "outputs": [
        {
          "output_type": "stream",
          "text": [
            "Input English sentence: i met him\n",
            "Actual Marathi Translation:  मी त्याला भेटलो \n",
            "Predicted Marathi Translation:  मी त्याला भेटले \n"
          ],
          "name": "stdout"
        }
      ]
    },
    {
      "cell_type": "code",
      "metadata": {
        "id": "66tUjM-G_f9u",
        "colab_type": "code",
        "outputId": "bbb14dfb-463e-4e02-a605-92fb9c469325",
        "colab": {
          "base_uri": "https://localhost:8080/",
          "height": 68
        }
      },
      "source": [
        "k+=1\n",
        "(input_seq, actual_output), _ = next(train_gen)\n",
        "decoded_sentence = decode_sequence(input_seq)\n",
        "print('Input English sentence:', X_train[k:k+1].values[0])\n",
        "print('Actual Marathi Translation:', y_train[k:k+1].values[0][6:-4])\n",
        "print('Predicted Marathi Translation:', decoded_sentence[:-4])"
      ],
      "execution_count": 68,
      "outputs": [
        {
          "output_type": "stream",
          "text": [
            "Input English sentence: i want coffee\n",
            "Actual Marathi Translation:  मला कॉफी हवी आहे \n",
            "Predicted Marathi Translation:  मला कॉफी हवी आहे \n"
          ],
          "name": "stdout"
        }
      ]
    },
    {
      "cell_type": "code",
      "metadata": {
        "id": "A2rvyAzv_f91",
        "colab_type": "code",
        "outputId": "f5848df5-f8b2-477d-989d-9639a885ec20",
        "colab": {
          "base_uri": "https://localhost:8080/",
          "height": 68
        }
      },
      "source": [
        "k+=1\n",
        "(input_seq, actual_output), _ = next(train_gen)\n",
        "decoded_sentence = decode_sequence(input_seq)\n",
        "print('Input English sentence:', X_train[k:k+1].values[0])\n",
        "print('Actual Marathi Translation:', y_train[k:k+1].values[0][6:-4])\n",
        "print('Predicted Marathi Translation:', decoded_sentence[:-4])"
      ],
      "execution_count": 69,
      "outputs": [
        {
          "output_type": "stream",
          "text": [
            "Input English sentence: im already so late\n",
            "Actual Marathi Translation:  मला आधीच इतका उशीर झाला आहे \n",
            "Predicted Marathi Translation:  मला फक्त किती वेळ आहे \n"
          ],
          "name": "stdout"
        }
      ]
    },
    {
      "cell_type": "code",
      "metadata": {
        "id": "6zzdAkUz_f94",
        "colab_type": "code",
        "outputId": "6d25f6de-37a8-4536-a419-384c947a3eed",
        "colab": {
          "base_uri": "https://localhost:8080/",
          "height": 68
        }
      },
      "source": [
        "k+=1\n",
        "(input_seq, actual_output), _ = next(train_gen)\n",
        "decoded_sentence = decode_sequence(input_seq)\n",
        "print('Input English sentence:', X_train[k:k+1].values[0])\n",
        "print('Actual Marathi Translation:', y_train[k:k+1].values[0][6:-4])\n",
        "print('Predicted Marathi Translation:', decoded_sentence[:-4])"
      ],
      "execution_count": 70,
      "outputs": [
        {
          "output_type": "stream",
          "text": [
            "Input English sentence: which do you like better the sea or the mountains\n",
            "Actual Marathi Translation:  तुला जास्त काय आवडतं समुद्र की डोंगर \n",
            "Predicted Marathi Translation:  तुला सर्वात सर्वात सर्वात कोणता खेळतात का \n"
          ],
          "name": "stdout"
        }
      ]
    },
    {
      "cell_type": "code",
      "metadata": {
        "id": "ss1nCqaI_f96",
        "colab_type": "code",
        "outputId": "7614a833-d7ba-486e-8d6d-ffe85804b8c4",
        "colab": {
          "base_uri": "https://localhost:8080/",
          "height": 68
        }
      },
      "source": [
        "k+=1\n",
        "(input_seq, actual_output), _ = next(train_gen)\n",
        "decoded_sentence = decode_sequence(input_seq)\n",
        "print('Input English sentence:', X_train[k:k+1].values[0])\n",
        "print('Actual Marathi Translation:', y_train[k:k+1].values[0][6:-4])\n",
        "print('Predicted Marathi Translation:', decoded_sentence[:-4])"
      ],
      "execution_count": 71,
      "outputs": [
        {
          "output_type": "stream",
          "text": [
            "Input English sentence: the british started to attack from across the river\n",
            "Actual Marathi Translation:  ब्रिटिश नदीच्या पलीकडून हल्ला करू लागले \n",
            "Predicted Marathi Translation:  ब्रिटिश राजदूताला रमजान वापरत नाही तसाच \n"
          ],
          "name": "stdout"
        }
      ]
    },
    {
      "cell_type": "code",
      "metadata": {
        "id": "4lWAxvtJ_f9-",
        "colab_type": "code",
        "outputId": "0c3b8fa0-c746-4907-c59f-77434ba84c74",
        "colab": {
          "base_uri": "https://localhost:8080/",
          "height": 68
        }
      },
      "source": [
        "k+=1\n",
        "(input_seq, actual_output), _ = next(train_gen)\n",
        "decoded_sentence = decode_sequence(input_seq)\n",
        "print('Input English sentence:', X_train[k:k+1].values[0])\n",
        "print('Actual Marathi Translation:', y_train[k:k+1].values[0][6:-4])\n",
        "print('Predicted Marathi Translation:', decoded_sentence[:-4])"
      ],
      "execution_count": 72,
      "outputs": [
        {
          "output_type": "stream",
          "text": [
            "Input English sentence: she likes all of us\n",
            "Actual Marathi Translation:  तिला आपण सर्वच आवडतो \n",
            "Predicted Marathi Translation:  तिला आपल्याला बेसबॉल आवडतो \n"
          ],
          "name": "stdout"
        }
      ]
    },
    {
      "cell_type": "code",
      "metadata": {
        "id": "6NcrU9o-_f-A",
        "colab_type": "code",
        "outputId": "5558b663-7623-4648-8506-714fd1ff42dc",
        "colab": {
          "base_uri": "https://localhost:8080/",
          "height": 68
        }
      },
      "source": [
        "k+=1\n",
        "(input_seq, actual_output), _ = next(train_gen)\n",
        "decoded_sentence = decode_sequence(input_seq)\n",
        "print('Input English sentence:', X_train[k:k+1].values[0])\n",
        "print('Actual Marathi Translation:', y_train[k:k+1].values[0][6:-4])\n",
        "print('Predicted Marathi Translation:', decoded_sentence[:-4])"
      ],
      "execution_count": 73,
      "outputs": [
        {
          "output_type": "stream",
          "text": [
            "Input English sentence: lets start with lesson ten\n",
            "Actual Marathi Translation:  दहाव्या धड्यापासून सुरू करुया \n",
            "Predicted Marathi Translation:  वर्ग काळोख आहे \n"
          ],
          "name": "stdout"
        }
      ]
    },
    {
      "cell_type": "code",
      "metadata": {
        "id": "MB1K7upY_f-G",
        "colab_type": "code",
        "outputId": "d6e0c403-6649-4915-af32-ee1d22ecc401",
        "colab": {
          "base_uri": "https://localhost:8080/",
          "height": 68
        }
      },
      "source": [
        "k+=1\n",
        "(input_seq, actual_output), _ = next(train_gen)\n",
        "decoded_sentence = decode_sequence(input_seq)\n",
        "print('Input English sentence:', X_train[k:k+1].values[0])\n",
        "print('Actual Marathi Translation:', y_train[k:k+1].values[0][6:-4])\n",
        "print('Predicted Marathi Translation:', decoded_sentence[:-4])"
      ],
      "execution_count": 74,
      "outputs": [
        {
          "output_type": "stream",
          "text": [
            "Input English sentence: they accepted the new government\n",
            "Actual Marathi Translation:  त्यांनी नवीन शासन स्वीकारलं \n",
            "Predicted Marathi Translation:  त्यांनी तीन महिन्यांनंतर होता \n"
          ],
          "name": "stdout"
        }
      ]
    },
    {
      "cell_type": "code",
      "metadata": {
        "id": "YhkxFmMn_f-H",
        "colab_type": "code",
        "outputId": "de4fcfad-7635-45fb-b4f0-d852e4b323f8",
        "colab": {
          "base_uri": "https://localhost:8080/",
          "height": 68
        }
      },
      "source": [
        "k+=1\n",
        "(input_seq, actual_output), _ = next(train_gen)\n",
        "decoded_sentence = decode_sequence(input_seq)\n",
        "print('Input English sentence:', X_train[k:k+1].values[0])\n",
        "print('Actual Marathi Translation:', y_train[k:k+1].values[0][6:-4])\n",
        "print('Predicted Marathi Translation:', decoded_sentence[:-4])"
      ],
      "execution_count": 75,
      "outputs": [
        {
          "output_type": "stream",
          "text": [
            "Input English sentence: ill order that later\n",
            "Actual Marathi Translation:  ते मी नंतर मागवेन \n",
            "Predicted Marathi Translation:  ते मी ते पत्र दिलं \n"
          ],
          "name": "stdout"
        }
      ]
    },
    {
      "cell_type": "code",
      "metadata": {
        "id": "85sLwnLf_f-K",
        "colab_type": "code",
        "outputId": "fbf3798e-9e43-4efb-9c60-475578e6ccbe",
        "colab": {
          "base_uri": "https://localhost:8080/",
          "height": 68
        }
      },
      "source": [
        "k+=1\n",
        "(input_seq, actual_output), _ = next(train_gen)\n",
        "decoded_sentence = decode_sequence(input_seq)\n",
        "print('Input English sentence:', X_train[k:k+1].values[0])\n",
        "print('Actual Marathi Translation:', y_train[k:k+1].values[0][6:-4])\n",
        "print('Predicted Marathi Translation:', decoded_sentence[:-4])"
      ],
      "execution_count": 76,
      "outputs": [
        {
          "output_type": "stream",
          "text": [
            "Input English sentence: this is toms sister\n",
            "Actual Marathi Translation:  ही टॉमची बहीण आहे \n",
            "Predicted Marathi Translation:  ही टॉमची बहीण आहे \n"
          ],
          "name": "stdout"
        }
      ]
    },
    {
      "cell_type": "code",
      "metadata": {
        "id": "vwknjpu4_f-M",
        "colab_type": "code",
        "outputId": "eb879bd9-b272-42f8-eeec-b0ec7a59cb75",
        "colab": {
          "base_uri": "https://localhost:8080/",
          "height": 68
        }
      },
      "source": [
        "k+=1\n",
        "(input_seq, actual_output), _ = next(train_gen)\n",
        "decoded_sentence = decode_sequence(input_seq)\n",
        "print('Input English sentence:', X_train[k:k+1].values[0])\n",
        "print('Actual Marathi Translation:', y_train[k:k+1].values[0][6:-4])\n",
        "print('Predicted Marathi Translation:', decoded_sentence[:-4])"
      ],
      "execution_count": 77,
      "outputs": [
        {
          "output_type": "stream",
          "text": [
            "Input English sentence: tom finally got what he wanted\n",
            "Actual Marathi Translation:  टॉमला जे हवं होतं ते शेवटी त्याला मिळालं \n",
            "Predicted Marathi Translation:  टॉमला जे काही सांगितलं त्याला माहीत होतं \n"
          ],
          "name": "stdout"
        }
      ]
    },
    {
      "cell_type": "code",
      "metadata": {
        "id": "WwGHlNS1_f-N",
        "colab_type": "code",
        "outputId": "2bc3fe6e-cb1b-43f2-b0c2-e4f865da0e97",
        "colab": {
          "base_uri": "https://localhost:8080/",
          "height": 68
        }
      },
      "source": [
        "k+=1\n",
        "(input_seq, actual_output), _ = next(train_gen)\n",
        "decoded_sentence = decode_sequence(input_seq)\n",
        "print('Input English sentence:', X_train[k:k+1].values[0])\n",
        "print('Actual Marathi Translation:', y_train[k:k+1].values[0][6:-4])\n",
        "print('Predicted Marathi Translation:', decoded_sentence[:-4])"
      ],
      "execution_count": 78,
      "outputs": [
        {
          "output_type": "stream",
          "text": [
            "Input English sentence: they said yes\n",
            "Actual Marathi Translation:  त्या हो म्हणाल्या \n",
            "Predicted Marathi Translation:  ते म्हणतात \n"
          ],
          "name": "stdout"
        }
      ]
    },
    {
      "cell_type": "code",
      "metadata": {
        "id": "RkjnsNnC_f-O",
        "colab_type": "code",
        "outputId": "26bce905-3233-4cbe-a16e-a78928e4bd58",
        "colab": {
          "base_uri": "https://localhost:8080/",
          "height": 68
        }
      },
      "source": [
        "k+=1\n",
        "(input_seq, actual_output), _ = next(train_gen)\n",
        "decoded_sentence = decode_sequence(input_seq)\n",
        "print('Input English sentence:', X_train[k:k+1].values[0])\n",
        "print('Actual Marathi Translation:', y_train[k:k+1].values[0][6:-4])\n",
        "print('Predicted Marathi Translation:', decoded_sentence[:-4])"
      ],
      "execution_count": 79,
      "outputs": [
        {
          "output_type": "stream",
          "text": [
            "Input English sentence: i want something sweet to eat\n",
            "Actual Marathi Translation:  मला काहीतरी गोड खायला हवंय \n",
            "Predicted Marathi Translation:  मला काहीतरी मिळेल हे मला आवडलं नाही \n"
          ],
          "name": "stdout"
        }
      ]
    },
    {
      "cell_type": "code",
      "metadata": {
        "id": "oCd2NhHd_f-Q",
        "colab_type": "code",
        "outputId": "515d45e3-4a5a-480f-a4be-d45418377477",
        "colab": {
          "base_uri": "https://localhost:8080/",
          "height": 68
        }
      },
      "source": [
        "k+=1\n",
        "(input_seq, actual_output), _ = next(train_gen)\n",
        "decoded_sentence = decode_sequence(input_seq)\n",
        "print('Input English sentence:', X_train[k:k+1].values[0])\n",
        "print('Actual Marathi Translation:', y_train[k:k+1].values[0][6:-4])\n",
        "print('Predicted Marathi Translation:', decoded_sentence[:-4])"
      ],
      "execution_count": 80,
      "outputs": [
        {
          "output_type": "stream",
          "text": [
            "Input English sentence: the garden was full of yellow flowers\n",
            "Actual Marathi Translation:  बाग पिवळ्या फुलांनी भरलेलं \n",
            "Predicted Marathi Translation:  बाग पिवळ्या फुलांनी भरलेलं \n"
          ],
          "name": "stdout"
        }
      ]
    },
    {
      "cell_type": "code",
      "metadata": {
        "id": "nEqp5g0__f-X",
        "colab_type": "code",
        "outputId": "74f4f2b0-6ce9-4aaf-a1dc-4e5ba4775b3e",
        "colab": {
          "base_uri": "https://localhost:8080/",
          "height": 68
        }
      },
      "source": [
        "k+=1\n",
        "(input_seq, actual_output), _ = next(train_gen)\n",
        "decoded_sentence = decode_sequence(input_seq)\n",
        "print('Input English sentence:', X_train[k:k+1].values[0])\n",
        "print('Actual Marathi Translation:', y_train[k:k+1].values[0][6:-4])\n",
        "print('Predicted Marathi Translation:', decoded_sentence[:-4])"
      ],
      "execution_count": 81,
      "outputs": [
        {
          "output_type": "stream",
          "text": [
            "Input English sentence: i dont have a smartphone\n",
            "Actual Marathi Translation:  माझ्याकडे स्मार्टफोन नाहीये \n",
            "Predicted Marathi Translation:  माझ्याकडे भूक लागली नाहीये \n"
          ],
          "name": "stdout"
        }
      ]
    },
    {
      "cell_type": "code",
      "metadata": {
        "id": "rDzgsAuf_f-Y",
        "colab_type": "code",
        "outputId": "3be1cc42-b666-4574-bf3f-0b4c51070850",
        "colab": {
          "base_uri": "https://localhost:8080/",
          "height": 68
        }
      },
      "source": [
        "k+=1\n",
        "(input_seq, actual_output), _ = next(train_gen)\n",
        "decoded_sentence = decode_sequence(input_seq)\n",
        "print('Input English sentence:', X_train[k:k+1].values[0])\n",
        "print('Actual Marathi Translation:', y_train[k:k+1].values[0][6:-4])\n",
        "print('Predicted Marathi Translation:', decoded_sentence[:-4])"
      ],
      "execution_count": 82,
      "outputs": [
        {
          "output_type": "stream",
          "text": [
            "Input English sentence: we saw nothing strange\n",
            "Actual Marathi Translation:  आम्हाला काही विचित्र दिसलं नाही \n",
            "Predicted Marathi Translation:  आम्हाला काहीही माहीत आहे \n"
          ],
          "name": "stdout"
        }
      ]
    },
    {
      "cell_type": "code",
      "metadata": {
        "id": "UElx2kOF_f-Z",
        "colab_type": "code",
        "outputId": "23a8c8ad-fb63-4251-ebcc-def8b77c63a2",
        "colab": {
          "base_uri": "https://localhost:8080/",
          "height": 68
        }
      },
      "source": [
        "k+=1\n",
        "(input_seq, actual_output), _ = next(train_gen)\n",
        "decoded_sentence = decode_sequence(input_seq)\n",
        "print('Input English sentence:', X_train[k:k+1].values[0])\n",
        "print('Actual Marathi Translation:', y_train[k:k+1].values[0][6:-4])\n",
        "print('Predicted Marathi Translation:', decoded_sentence[:-4])"
      ],
      "execution_count": 83,
      "outputs": [
        {
          "output_type": "stream",
          "text": [
            "Input English sentence: we like games\n",
            "Actual Marathi Translation:  आम्हाला गेम आवडतात \n",
            "Predicted Marathi Translation:  आम्हाला खेळ आवडतात \n"
          ],
          "name": "stdout"
        }
      ]
    },
    {
      "cell_type": "code",
      "metadata": {
        "id": "qXy1Lae3_f-b",
        "colab_type": "code",
        "outputId": "9f633838-24d4-41d1-c58f-334e0686f2c1",
        "colab": {
          "base_uri": "https://localhost:8080/",
          "height": 68
        }
      },
      "source": [
        "k+=1\n",
        "(input_seq, actual_output), _ = next(train_gen)\n",
        "decoded_sentence = decode_sequence(input_seq)\n",
        "print('Input English sentence:', X_train[k:k+1].values[0])\n",
        "print('Actual Marathi Translation:', y_train[k:k+1].values[0][6:-4])\n",
        "print('Predicted Marathi Translation:', decoded_sentence[:-4])"
      ],
      "execution_count": 84,
      "outputs": [
        {
          "output_type": "stream",
          "text": [
            "Input English sentence: there are a lot of people here today\n",
            "Actual Marathi Translation:  आज भरपूर लोकं आहेत इथे \n",
            "Predicted Marathi Translation:  आज इथे भरपूर लोकं होती \n"
          ],
          "name": "stdout"
        }
      ]
    },
    {
      "cell_type": "code",
      "metadata": {
        "id": "9en5cfKF_f-d",
        "colab_type": "code",
        "outputId": "6dde868f-ed71-4c42-dd6b-fe155edbfb52",
        "colab": {
          "base_uri": "https://localhost:8080/",
          "height": 68
        }
      },
      "source": [
        "k+=1\n",
        "(input_seq, actual_output), _ = next(train_gen)\n",
        "decoded_sentence = decode_sequence(input_seq)\n",
        "print('Input English sentence:', X_train[k:k+1].values[0])\n",
        "print('Actual Marathi Translation:', y_train[k:k+1].values[0][6:-4])\n",
        "print('Predicted Marathi Translation:', decoded_sentence[:-4])"
      ],
      "execution_count": 85,
      "outputs": [
        {
          "output_type": "stream",
          "text": [
            "Input English sentence: pakistan is a muslim country\n",
            "Actual Marathi Translation:  पाकिस्तान हा मुस्लिम देश आहे \n",
            "Predicted Marathi Translation:  वाह हा मुस्लिम असतो \n"
          ],
          "name": "stdout"
        }
      ]
    },
    {
      "cell_type": "code",
      "metadata": {
        "id": "gzfYACyq_f-e",
        "colab_type": "code",
        "colab": {}
      },
      "source": [
        ""
      ],
      "execution_count": 0,
      "outputs": []
    },
    {
      "cell_type": "markdown",
      "metadata": {
        "id": "CKRLkKNL_f-f",
        "colab_type": "text"
      },
      "source": [
        "### Evaluation on Validation Dataset"
      ]
    },
    {
      "cell_type": "code",
      "metadata": {
        "id": "aND0lyCF_f-g",
        "colab_type": "code",
        "colab": {}
      },
      "source": [
        "val_gen = generate_batch(X_test, y_test, batch_size = 1)\n",
        "k=-1"
      ],
      "execution_count": 0,
      "outputs": []
    },
    {
      "cell_type": "code",
      "metadata": {
        "id": "b-BmLoVQ_f-h",
        "colab_type": "code",
        "outputId": "66c44381-cd47-4bb7-9be7-f7de505bad6d",
        "colab": {
          "base_uri": "https://localhost:8080/",
          "height": 68
        }
      },
      "source": [
        "k+=1\n",
        "(input_seq, actual_output), _ = next(val_gen)\n",
        "decoded_sentence = decode_sequence(input_seq)\n",
        "print('Input English sentence:', X_test[k:k+1].values[0])\n",
        "print('Actual Marathi Translation:', y_test[k:k+1].values[0][6:-4])\n",
        "print('Predicted Marathi Translation:', decoded_sentence[:-4])"
      ],
      "execution_count": 87,
      "outputs": [
        {
          "output_type": "stream",
          "text": [
            "Input English sentence: he went instead of his dad\n",
            "Actual Marathi Translation:  त्याच्या बाबांच्या जागी तो गेला \n",
            "Predicted Marathi Translation:  तो मुलगा तिथे काम अनुवाद केला \n"
          ],
          "name": "stdout"
        }
      ]
    },
    {
      "cell_type": "code",
      "metadata": {
        "id": "TYce8u3k_f-j",
        "colab_type": "code",
        "outputId": "ffa6b940-1fa3-4855-b599-d218e62967c1",
        "colab": {
          "base_uri": "https://localhost:8080/",
          "height": 68
        }
      },
      "source": [
        "k+=1\n",
        "(input_seq, actual_output), _ = next(val_gen)\n",
        "decoded_sentence = decode_sequence(input_seq)\n",
        "print('Input English sentence:', X_test[k:k+1].values[0])\n",
        "print('Actual Marathi Translation:', y_test[k:k+1].values[0][6:-4])\n",
        "print('Predicted Marathi Translation:', decoded_sentence[:-4])"
      ],
      "execution_count": 88,
      "outputs": [
        {
          "output_type": "stream",
          "text": [
            "Input English sentence: my favorite team lost yesterday\n",
            "Actual Marathi Translation:  काल माझा आवडता संघ हरला \n",
            "Predicted Marathi Translation:  माझ्या वर्षी तुझा भाऊ बेसबॉल आवडतात \n"
          ],
          "name": "stdout"
        }
      ]
    },
    {
      "cell_type": "code",
      "metadata": {
        "id": "tAE_XW2c_f-l",
        "colab_type": "code",
        "outputId": "a313c4fd-67c6-4fcd-ab31-4243a89752e9",
        "colab": {
          "base_uri": "https://localhost:8080/",
          "height": 68
        }
      },
      "source": [
        "k+=1\n",
        "(input_seq, actual_output), _ = next(val_gen)\n",
        "decoded_sentence = decode_sequence(input_seq)\n",
        "print('Input English sentence:', X_test[k:k+1].values[0])\n",
        "print('Actual Marathi Translation:', y_test[k:k+1].values[0][6:-4])\n",
        "print('Predicted Marathi Translation:', decoded_sentence[:-4])"
      ],
      "execution_count": 89,
      "outputs": [
        {
          "output_type": "stream",
          "text": [
            "Input English sentence: dont let the enemy get close\n",
            "Actual Marathi Translation:  शत्रुला जवळ येऊ देऊ नकोस \n",
            "Predicted Marathi Translation:  खिडक्या उघड्या ठेवून देऊ नकोस \n"
          ],
          "name": "stdout"
        }
      ]
    },
    {
      "cell_type": "code",
      "metadata": {
        "id": "tS78OEkC_f-n",
        "colab_type": "code",
        "outputId": "8e4da15e-c08c-40f0-a70b-5469269325db",
        "colab": {
          "base_uri": "https://localhost:8080/",
          "height": 68
        }
      },
      "source": [
        "k+=1\n",
        "(input_seq, actual_output), _ = next(val_gen)\n",
        "decoded_sentence = decode_sequence(input_seq)\n",
        "print('Input English sentence:', X_test[k:k+1].values[0])\n",
        "print('Actual Marathi Translation:', y_test[k:k+1].values[0][6:-4])\n",
        "print('Predicted Marathi Translation:', decoded_sentence[:-4])"
      ],
      "execution_count": 90,
      "outputs": [
        {
          "output_type": "stream",
          "text": [
            "Input English sentence: why doesnt tom talk\n",
            "Actual Marathi Translation:  टॉम बोलत का नाही \n",
            "Predicted Marathi Translation:  टॉम खोटं बघायला पाहिजे \n"
          ],
          "name": "stdout"
        }
      ]
    },
    {
      "cell_type": "code",
      "metadata": {
        "id": "mCNVRqjx_f-o",
        "colab_type": "code",
        "outputId": "278c0ccf-a5ae-4b01-f42e-74a909733312",
        "colab": {
          "base_uri": "https://localhost:8080/",
          "height": 68
        }
      },
      "source": [
        "k+=1\n",
        "(input_seq, actual_output), _ = next(val_gen)\n",
        "decoded_sentence = decode_sequence(input_seq)\n",
        "print('Input English sentence:', X_test[k:k+1].values[0])\n",
        "print('Actual Marathi Translation:', y_test[k:k+1].values[0][6:-4])\n",
        "print('Predicted Marathi Translation:', decoded_sentence[:-4])"
      ],
      "execution_count": 91,
      "outputs": [
        {
          "output_type": "stream",
          "text": [
            "Input English sentence: what can tom do that mary cant\n",
            "Actual Marathi Translation:  टॉम असं काय करू शकतो जे मेरी करू शकत नाही \n",
            "Predicted Marathi Translation:  टॉम तसं करू नकोस ते खरं नव्हतं \n"
          ],
          "name": "stdout"
        }
      ]
    },
    {
      "cell_type": "code",
      "metadata": {
        "id": "dU0n-8eB_f-p",
        "colab_type": "code",
        "outputId": "fd4ba12e-fd45-4c78-9786-89060edb0713",
        "colab": {
          "base_uri": "https://localhost:8080/",
          "height": 68
        }
      },
      "source": [
        "k+=1\n",
        "(input_seq, actual_output), _ = next(val_gen)\n",
        "decoded_sentence = decode_sequence(input_seq)\n",
        "print('Input English sentence:', X_test[k:k+1].values[0])\n",
        "print('Actual Marathi Translation:', y_test[k:k+1].values[0][6:-4])\n",
        "print('Predicted Marathi Translation:', decoded_sentence[:-4])"
      ],
      "execution_count": 92,
      "outputs": [
        {
          "output_type": "stream",
          "text": [
            "Input English sentence: tom likes french\n",
            "Actual Marathi Translation:  टॉमला फ्रेंच आवडते \n",
            "Predicted Marathi Translation:  टॉमला फ्रेंच आवडते \n"
          ],
          "name": "stdout"
        }
      ]
    },
    {
      "cell_type": "code",
      "metadata": {
        "id": "fVfSVuIt_f-t",
        "colab_type": "code",
        "outputId": "3bb6866a-fe1c-4a69-ddc0-36fff1880627",
        "colab": {
          "base_uri": "https://localhost:8080/",
          "height": 68
        }
      },
      "source": [
        "k+=1\n",
        "(input_seq, actual_output), _ = next(val_gen)\n",
        "decoded_sentence = decode_sequence(input_seq)\n",
        "print('Input English sentence:', X_test[k:k+1].values[0])\n",
        "print('Actual Marathi Translation:', y_test[k:k+1].values[0][6:-4])\n",
        "print('Predicted Marathi Translation:', decoded_sentence[:-4])"
      ],
      "execution_count": 93,
      "outputs": [
        {
          "output_type": "stream",
          "text": [
            "Input English sentence: the population of japan is about million\n",
            "Actual Marathi Translation:  जपानची लोकसंख्या सुमारे दशलक्ष आहे \n",
            "Predicted Marathi Translation:  जपान लोकसंख्या अतिशय खेळ सुरू आहे \n"
          ],
          "name": "stdout"
        }
      ]
    },
    {
      "cell_type": "code",
      "metadata": {
        "id": "GYIX8WBa_f-w",
        "colab_type": "code",
        "outputId": "cd1e04d2-d124-467d-adf6-a36790621212",
        "colab": {
          "base_uri": "https://localhost:8080/",
          "height": 68
        }
      },
      "source": [
        "k+=1\n",
        "(input_seq, actual_output), _ = next(val_gen)\n",
        "decoded_sentence = decode_sequence(input_seq)\n",
        "print('Input English sentence:', X_test[k:k+1].values[0])\n",
        "print('Actual Marathi Translation:', y_test[k:k+1].values[0][6:-4])\n",
        "print('Predicted Marathi Translation:', decoded_sentence[:-4])"
      ],
      "execution_count": 94,
      "outputs": [
        {
          "output_type": "stream",
          "text": [
            "Input English sentence: i cant tell you the truth\n",
            "Actual Marathi Translation:  खरं काय हे मी तुम्हाला सांगू शकत नाही \n",
            "Predicted Marathi Translation:  मी तुला खरं सांगितलं नाही का \n"
          ],
          "name": "stdout"
        }
      ]
    },
    {
      "cell_type": "code",
      "metadata": {
        "id": "E8I2IWAX_f-y",
        "colab_type": "code",
        "outputId": "b19d26f8-8a23-4ca6-b4d4-0edd1a1cf933",
        "colab": {
          "base_uri": "https://localhost:8080/",
          "height": 68
        }
      },
      "source": [
        "k+=1\n",
        "(input_seq, actual_output), _ = next(val_gen)\n",
        "decoded_sentence = decode_sequence(input_seq)\n",
        "print('Input English sentence:', X_test[k:k+1].values[0])\n",
        "print('Actual Marathi Translation:', y_test[k:k+1].values[0][6:-4])\n",
        "print('Predicted Marathi Translation:', decoded_sentence[:-4])"
      ],
      "execution_count": 95,
      "outputs": [
        {
          "output_type": "stream",
          "text": [
            "Input English sentence: im using twitter\n",
            "Actual Marathi Translation:  मी ट्विटर वापरत आहे \n",
            "Predicted Marathi Translation:  मी ट्विटर आवडत नाही \n"
          ],
          "name": "stdout"
        }
      ]
    },
    {
      "cell_type": "code",
      "metadata": {
        "id": "6fji8Vcx_f-2",
        "colab_type": "code",
        "outputId": "2a9bb0ca-9d31-4e54-dc59-eab4d322943c",
        "colab": {
          "base_uri": "https://localhost:8080/",
          "height": 68
        }
      },
      "source": [
        "k+=1\n",
        "(input_seq, actual_output), _ = next(val_gen)\n",
        "decoded_sentence = decode_sequence(input_seq)\n",
        "print('Input English sentence:', X_test[k:k+1].values[0])\n",
        "print('Actual Marathi Translation:', y_test[k:k+1].values[0][6:-4])\n",
        "print('Predicted Marathi Translation:', decoded_sentence[:-4])"
      ],
      "execution_count": 96,
      "outputs": [
        {
          "output_type": "stream",
          "text": [
            "Input English sentence: thats not my name\n",
            "Actual Marathi Translation:  ते माझं नाव नाही आहे \n",
            "Predicted Marathi Translation:  तो माझं नाव नाहीये \n"
          ],
          "name": "stdout"
        }
      ]
    },
    {
      "cell_type": "code",
      "metadata": {
        "id": "_8mT1WuM_f-5",
        "colab_type": "code",
        "outputId": "3f4a8ba4-08a7-4d73-c5b3-90a26005461d",
        "colab": {
          "base_uri": "https://localhost:8080/",
          "height": 68
        }
      },
      "source": [
        "k+=1\n",
        "(input_seq, actual_output), _ = next(val_gen)\n",
        "decoded_sentence = decode_sequence(input_seq)\n",
        "print('Input English sentence:', X_test[k:k+1].values[0])\n",
        "print('Actual Marathi Translation:', y_test[k:k+1].values[0][6:-4])\n",
        "print('Predicted Marathi Translation:', decoded_sentence[:-4])"
      ],
      "execution_count": 97,
      "outputs": [
        {
          "output_type": "stream",
          "text": [
            "Input English sentence: did you play tennis\n",
            "Actual Marathi Translation:  टेनिस खेळलीस का \n",
            "Predicted Marathi Translation:  तू टेनिस खेळता येतो \n"
          ],
          "name": "stdout"
        }
      ]
    },
    {
      "cell_type": "code",
      "metadata": {
        "id": "WEw56Qhe_f-6",
        "colab_type": "code",
        "outputId": "63ba9618-a7a9-40ca-a579-ec71e49b7e88",
        "colab": {
          "base_uri": "https://localhost:8080/",
          "height": 68
        }
      },
      "source": [
        "k+=1\n",
        "(input_seq, actual_output), _ = next(val_gen)\n",
        "decoded_sentence = decode_sequence(input_seq)\n",
        "print('Input English sentence:', X_test[k:k+1].values[0])\n",
        "print('Actual Marathi Translation:', y_test[k:k+1].values[0][6:-4])\n",
        "print('Predicted Marathi Translation:', decoded_sentence[:-4])"
      ],
      "execution_count": 98,
      "outputs": [
        {
          "output_type": "stream",
          "text": [
            "Input English sentence: this meat has gone bad\n",
            "Actual Marathi Translation:  हे मांस खराब झालंय \n",
            "Predicted Marathi Translation:  हे मटण वाजता उघडतं \n"
          ],
          "name": "stdout"
        }
      ]
    },
    {
      "cell_type": "code",
      "metadata": {
        "id": "EXIPZGgn_f-8",
        "colab_type": "code",
        "outputId": "96dff095-8bb3-4701-dbb8-5a3527eab872",
        "colab": {
          "base_uri": "https://localhost:8080/",
          "height": 68
        }
      },
      "source": [
        "k+=1\n",
        "(input_seq, actual_output), _ = next(val_gen)\n",
        "decoded_sentence = decode_sequence(input_seq)\n",
        "print('Input English sentence:', X_test[k:k+1].values[0])\n",
        "print('Actual Marathi Translation:', y_test[k:k+1].values[0][6:-4])\n",
        "print('Predicted Marathi Translation:', decoded_sentence[:-4])"
      ],
      "execution_count": 99,
      "outputs": [
        {
          "output_type": "stream",
          "text": [
            "Input English sentence: i started thinking about tom\n",
            "Actual Marathi Translation:  मी टॉमचा विचार करू लागले \n",
            "Predicted Marathi Translation:  मी टॉम पाऊस पडला \n"
          ],
          "name": "stdout"
        }
      ]
    },
    {
      "cell_type": "code",
      "metadata": {
        "id": "hUiesPuh_f--",
        "colab_type": "code",
        "outputId": "de93f364-cdf9-4e9a-c019-f21ae8b75801",
        "colab": {
          "base_uri": "https://localhost:8080/",
          "height": 68
        }
      },
      "source": [
        "k+=1\n",
        "(input_seq, actual_output), _ = next(val_gen)\n",
        "decoded_sentence = decode_sequence(input_seq)\n",
        "print('Input English sentence:', X_test[k:k+1].values[0])\n",
        "print('Actual Marathi Translation:', y_test[k:k+1].values[0][6:-4])\n",
        "print('Predicted Marathi Translation:', decoded_sentence[:-4])"
      ],
      "execution_count": 100,
      "outputs": [
        {
          "output_type": "stream",
          "text": [
            "Input English sentence: when was this car washed\n",
            "Actual Marathi Translation:  ही गाडी कधी धुतली होती \n",
            "Predicted Marathi Translation:  ही ही चित्र तो कधीही थंड आहे \n"
          ],
          "name": "stdout"
        }
      ]
    },
    {
      "cell_type": "code",
      "metadata": {
        "id": "RpKMtQ50_f-_",
        "colab_type": "code",
        "outputId": "414f53c3-3774-4dd4-9961-54e8bdf30464",
        "colab": {
          "base_uri": "https://localhost:8080/",
          "height": 68
        }
      },
      "source": [
        "k+=1\n",
        "(input_seq, actual_output), _ = next(val_gen)\n",
        "decoded_sentence = decode_sequence(input_seq)\n",
        "print('Input English sentence:', X_test[k:k+1].values[0])\n",
        "print('Actual Marathi Translation:', y_test[k:k+1].values[0][6:-4])\n",
        "print('Predicted Marathi Translation:', decoded_sentence[:-4])"
      ],
      "execution_count": 101,
      "outputs": [
        {
          "output_type": "stream",
          "text": [
            "Input English sentence: you put too much sugar in your tea\n",
            "Actual Marathi Translation:  तू तुझ्या चहात खूपच साखर घालतेस \n",
            "Predicted Marathi Translation:  तू किती ड्रेस या हव्या आहेत \n"
          ],
          "name": "stdout"
        }
      ]
    },
    {
      "cell_type": "code",
      "metadata": {
        "id": "5O1ZZ0U0_f_B",
        "colab_type": "code",
        "outputId": "49728947-55e2-4ddf-d768-1e4069a060c3",
        "colab": {
          "base_uri": "https://localhost:8080/",
          "height": 68
        }
      },
      "source": [
        "k+=1\n",
        "(input_seq, actual_output), _ = next(val_gen)\n",
        "decoded_sentence = decode_sequence(input_seq)\n",
        "print('Input English sentence:', X_test[k:k+1].values[0])\n",
        "print('Actual Marathi Translation:', y_test[k:k+1].values[0][6:-4])\n",
        "print('Predicted Marathi Translation:', decoded_sentence[:-4])"
      ],
      "execution_count": 102,
      "outputs": [
        {
          "output_type": "stream",
          "text": [
            "Input English sentence: i forgot to buy flowers for mary\n",
            "Actual Marathi Translation:  मी मेरीसाठी फुलं आणायला विसरले \n",
            "Predicted Marathi Translation:  मी गिटार आणायला सांगतो \n"
          ],
          "name": "stdout"
        }
      ]
    },
    {
      "cell_type": "code",
      "metadata": {
        "id": "8XYM05o__f_C",
        "colab_type": "code",
        "outputId": "9a219a96-3376-46c2-da87-93bfaca9302f",
        "colab": {
          "base_uri": "https://localhost:8080/",
          "height": 68
        }
      },
      "source": [
        "k+=1\n",
        "(input_seq, actual_output), _ = next(val_gen)\n",
        "decoded_sentence = decode_sequence(input_seq)\n",
        "print('Input English sentence:', X_test[k:k+1].values[0])\n",
        "print('Actual Marathi Translation:', y_test[k:k+1].values[0][6:-4])\n",
        "print('Predicted Marathi Translation:', decoded_sentence[:-4])"
      ],
      "execution_count": 103,
      "outputs": [
        {
          "output_type": "stream",
          "text": [
            "Input English sentence: elephants have long trunks\n",
            "Actual Marathi Translation:  हत्तींच्या लांब सोंडी असतात \n",
            "Predicted Marathi Translation:  मोठे सर्व मासे आवडतात \n"
          ],
          "name": "stdout"
        }
      ]
    },
    {
      "cell_type": "code",
      "metadata": {
        "id": "7C2DGGZU_f_D",
        "colab_type": "code",
        "outputId": "1e97e452-284d-4b12-c013-318987963806",
        "colab": {
          "base_uri": "https://localhost:8080/",
          "height": 68
        }
      },
      "source": [
        "k+=1\n",
        "(input_seq, actual_output), _ = next(val_gen)\n",
        "decoded_sentence = decode_sequence(input_seq)\n",
        "print('Input English sentence:', X_test[k:k+1].values[0])\n",
        "print('Actual Marathi Translation:', y_test[k:k+1].values[0][6:-4])\n",
        "print('Predicted Marathi Translation:', decoded_sentence[:-4])"
      ],
      "execution_count": 104,
      "outputs": [
        {
          "output_type": "stream",
          "text": [
            "Input English sentence: theyre eating sandwiches\n",
            "Actual Marathi Translation:  त्या सँडविच खाताहेत \n",
            "Predicted Marathi Translation:  ते सँडविच खाताहेत \n"
          ],
          "name": "stdout"
        }
      ]
    },
    {
      "cell_type": "code",
      "metadata": {
        "id": "7sNXUb3P_f_F",
        "colab_type": "code",
        "outputId": "c0263581-77c3-4803-b346-a477388a6466",
        "colab": {
          "base_uri": "https://localhost:8080/",
          "height": 68
        }
      },
      "source": [
        "k+=1\n",
        "(input_seq, actual_output), _ = next(val_gen)\n",
        "decoded_sentence = decode_sequence(input_seq)\n",
        "print('Input English sentence:', X_test[k:k+1].values[0])\n",
        "print('Actual Marathi Translation:', y_test[k:k+1].values[0][6:-4])\n",
        "print('Predicted Marathi Translation:', decoded_sentence[:-4])"
      ],
      "execution_count": 105,
      "outputs": [
        {
          "output_type": "stream",
          "text": [
            "Input English sentence: he lived in matsue for seven years\n",
            "Actual Marathi Translation:  तो मात्सुएमध्ये सात वर्ष राहिला \n",
            "Predicted Marathi Translation:  तो सात वाजता उठतो \n"
          ],
          "name": "stdout"
        }
      ]
    },
    {
      "cell_type": "code",
      "metadata": {
        "id": "XPwLrCem_f_L",
        "colab_type": "code",
        "outputId": "9b277bd9-a89b-40ab-d84a-1ea9964899dd",
        "colab": {
          "base_uri": "https://localhost:8080/",
          "height": 68
        }
      },
      "source": [
        "k+=1\n",
        "(input_seq, actual_output), _ = next(val_gen)\n",
        "decoded_sentence = decode_sequence(input_seq)\n",
        "print('Input English sentence:', X_test[k:k+1].values[0])\n",
        "print('Actual Marathi Translation:', y_test[k:k+1].values[0][6:-4])\n",
        "print('Predicted Marathi Translation:', decoded_sentence[:-4])"
      ],
      "execution_count": 106,
      "outputs": [
        {
          "output_type": "stream",
          "text": [
            "Input English sentence: where did you see the woman\n",
            "Actual Marathi Translation:  तू त्या बाईला कुठे बघितलंस \n",
            "Predicted Marathi Translation:  तुम्ही कोणी सही कुठे मिळाली \n"
          ],
          "name": "stdout"
        }
      ]
    },
    {
      "cell_type": "code",
      "metadata": {
        "id": "8r3NxTvg_f_M",
        "colab_type": "code",
        "outputId": "716d87d1-d32b-4d74-e99c-f6eb10819d47",
        "colab": {
          "base_uri": "https://localhost:8080/",
          "height": 68
        }
      },
      "source": [
        "k+=1\n",
        "(input_seq, actual_output), _ = next(val_gen)\n",
        "decoded_sentence = decode_sequence(input_seq)\n",
        "print('Input English sentence:', X_test[k:k+1].values[0])\n",
        "print('Actual Marathi Translation:', y_test[k:k+1].values[0][6:-4])\n",
        "print('Predicted Marathi Translation:', decoded_sentence[:-4])"
      ],
      "execution_count": 107,
      "outputs": [
        {
          "output_type": "stream",
          "text": [
            "Input English sentence: i just need three hundred dollars\n",
            "Actual Marathi Translation:  मला फक्त तीनशे डॉलरची गरज आहे \n",
            "Predicted Marathi Translation:  मला फक्त दररोजच दहा डॉलर हवी आहे \n"
          ],
          "name": "stdout"
        }
      ]
    },
    {
      "cell_type": "code",
      "metadata": {
        "id": "JVfBQJHI_f_N",
        "colab_type": "code",
        "outputId": "0baa53f6-d5d2-49aa-b60d-902c93afc15f",
        "colab": {
          "base_uri": "https://localhost:8080/",
          "height": 68
        }
      },
      "source": [
        "k+=1\n",
        "(input_seq, actual_output), _ = next(val_gen)\n",
        "decoded_sentence = decode_sequence(input_seq)\n",
        "print('Input English sentence:', X_test[k:k+1].values[0])\n",
        "print('Actual Marathi Translation:', y_test[k:k+1].values[0][6:-4])\n",
        "print('Predicted Marathi Translation:', decoded_sentence[:-4])"
      ],
      "execution_count": 108,
      "outputs": [
        {
          "output_type": "stream",
          "text": [
            "Input English sentence: how many flowers do you buy\n",
            "Actual Marathi Translation:  तू किती फुलं विकत घेतोस \n",
            "Predicted Marathi Translation:  किती पुस्तकं विकत घेतलंस \n"
          ],
          "name": "stdout"
        }
      ]
    },
    {
      "cell_type": "code",
      "metadata": {
        "id": "ID0OZjUd_f_O",
        "colab_type": "code",
        "outputId": "9c3cc8dc-3e0e-4bfc-aa1d-b56ce6c39f01",
        "colab": {
          "base_uri": "https://localhost:8080/",
          "height": 68
        }
      },
      "source": [
        "k+=1\n",
        "(input_seq, actual_output), _ = next(val_gen)\n",
        "decoded_sentence = decode_sequence(input_seq)\n",
        "print('Input English sentence:', X_test[k:k+1].values[0])\n",
        "print('Actual Marathi Translation:', y_test[k:k+1].values[0][6:-4])\n",
        "print('Predicted Marathi Translation:', decoded_sentence[:-4])"
      ],
      "execution_count": 109,
      "outputs": [
        {
          "output_type": "stream",
          "text": [
            "Input English sentence: the news cant be true\n",
            "Actual Marathi Translation:  ती बातमी खरी असू शकत नाही \n",
            "Predicted Marathi Translation:  बातमी बातमी नाहीये \n"
          ],
          "name": "stdout"
        }
      ]
    },
    {
      "cell_type": "code",
      "metadata": {
        "id": "SnJWWosV_f_V",
        "colab_type": "code",
        "outputId": "bc4ca932-211d-4b15-daa4-2fd43f1b89ae",
        "colab": {
          "base_uri": "https://localhost:8080/",
          "height": 68
        }
      },
      "source": [
        "k+=1\n",
        "(input_seq, actual_output), _ = next(val_gen)\n",
        "decoded_sentence = decode_sequence(input_seq)\n",
        "print('Input English sentence:', X_test[k:k+1].values[0])\n",
        "print('Actual Marathi Translation:', y_test[k:k+1].values[0][6:-4])\n",
        "print('Predicted Marathi Translation:', decoded_sentence[:-4])"
      ],
      "execution_count": 110,
      "outputs": [
        {
          "output_type": "stream",
          "text": [
            "Input English sentence: president lincoln wrote all five of these documents\n",
            "Actual Marathi Translation:  राष्ट्राध्यक्ष लिंकन यांनी हे पाचही दस्ताऐवज लिहिले \n",
            "Predicted Marathi Translation:  जपानमध्ये लोकं आपल्या वसाहती टाकतो \n"
          ],
          "name": "stdout"
        }
      ]
    },
    {
      "cell_type": "code",
      "metadata": {
        "id": "fBKK4Vus_f_W",
        "colab_type": "code",
        "outputId": "793ea431-bb50-4de0-f788-2470b39ddbd9",
        "colab": {
          "base_uri": "https://localhost:8080/",
          "height": 68
        }
      },
      "source": [
        "k+=1\n",
        "(input_seq, actual_output), _ = next(val_gen)\n",
        "decoded_sentence = decode_sequence(input_seq)\n",
        "print('Input English sentence:', X_test[k:k+1].values[0])\n",
        "print('Actual Marathi Translation:', y_test[k:k+1].values[0][6:-4])\n",
        "print('Predicted Marathi Translation:', decoded_sentence[:-4])"
      ],
      "execution_count": 111,
      "outputs": [
        {
          "output_type": "stream",
          "text": [
            "Input English sentence: this is food\n",
            "Actual Marathi Translation:  हे खाणं आहे \n",
            "Predicted Marathi Translation:  हे टेबल आहे \n"
          ],
          "name": "stdout"
        }
      ]
    },
    {
      "cell_type": "code",
      "metadata": {
        "id": "wtd9syHQ_f_Y",
        "colab_type": "code",
        "outputId": "b5680c50-9514-4754-d14a-7afcf488c322",
        "colab": {
          "base_uri": "https://localhost:8080/",
          "height": 68
        }
      },
      "source": [
        "k+=1\n",
        "(input_seq, actual_output), _ = next(val_gen)\n",
        "decoded_sentence = decode_sequence(input_seq)\n",
        "print('Input English sentence:', X_test[k:k+1].values[0])\n",
        "print('Actual Marathi Translation:', y_test[k:k+1].values[0][6:-4])\n",
        "print('Predicted Marathi Translation:', decoded_sentence[:-4])"
      ],
      "execution_count": 112,
      "outputs": [
        {
          "output_type": "stream",
          "text": [
            "Input English sentence: tom said mary used to live in australia\n",
            "Actual Marathi Translation:  टॉम म्हणाला की मेरी ऑस्ट्रेलियात राहायची \n",
            "Predicted Marathi Translation:  टॉम आणि मेरी दोघेही एकत्र राहतो \n"
          ],
          "name": "stdout"
        }
      ]
    },
    {
      "cell_type": "code",
      "metadata": {
        "id": "UfLAfKuG_f_a",
        "colab_type": "code",
        "outputId": "4993badf-b70f-43ac-fd93-19ef342ee56a",
        "colab": {
          "base_uri": "https://localhost:8080/",
          "height": 68
        }
      },
      "source": [
        "k+=1\n",
        "(input_seq, actual_output), _ = next(val_gen)\n",
        "decoded_sentence = decode_sequence(input_seq)\n",
        "print('Input English sentence:', X_test[k:k+1].values[0])\n",
        "print('Actual Marathi Translation:', y_test[k:k+1].values[0][6:-4])\n",
        "print('Predicted Marathi Translation:', decoded_sentence[:-4])"
      ],
      "execution_count": 113,
      "outputs": [
        {
          "output_type": "stream",
          "text": [
            "Input English sentence: they dont know my name\n",
            "Actual Marathi Translation:  त्यांना माझं नाव माहीत नाहीये \n",
            "Predicted Marathi Translation:  टॉम तुझं नाव माहीत नाही \n"
          ],
          "name": "stdout"
        }
      ]
    },
    {
      "cell_type": "code",
      "metadata": {
        "id": "uznd2RUq_f_c",
        "colab_type": "code",
        "outputId": "29759ed0-3d06-4274-a4fc-b03b52678fab",
        "colab": {
          "base_uri": "https://localhost:8080/",
          "height": 68
        }
      },
      "source": [
        "k+=1\n",
        "(input_seq, actual_output), _ = next(val_gen)\n",
        "decoded_sentence = decode_sequence(input_seq)\n",
        "print('Input English sentence:', X_test[k:k+1].values[0])\n",
        "print('Actual Marathi Translation:', y_test[k:k+1].values[0][6:-4])\n",
        "print('Predicted Marathi Translation:', decoded_sentence[:-4])"
      ],
      "execution_count": 114,
      "outputs": [
        {
          "output_type": "stream",
          "text": [
            "Input English sentence: goats can eat almost anything\n",
            "Actual Marathi Translation:  बकर्‍या जवळजवळ काहीही खाऊ शकतात \n",
            "Predicted Marathi Translation:  बकरे जवळजवळ काहीही खाऊ शकतं \n"
          ],
          "name": "stdout"
        }
      ]
    },
    {
      "cell_type": "code",
      "metadata": {
        "id": "xjfvPFt__f_d",
        "colab_type": "code",
        "outputId": "be250c75-6682-4c97-ca0d-eb9097357861",
        "colab": {
          "base_uri": "https://localhost:8080/",
          "height": 68
        }
      },
      "source": [
        "k+=1\n",
        "(input_seq, actual_output), _ = next(val_gen)\n",
        "decoded_sentence = decode_sequence(input_seq)\n",
        "print('Input English sentence:', X_test[k:k+1].values[0])\n",
        "print('Actual Marathi Translation:', y_test[k:k+1].values[0][6:-4])\n",
        "print('Predicted Marathi Translation:', decoded_sentence[:-4])"
      ],
      "execution_count": 115,
      "outputs": [
        {
          "output_type": "stream",
          "text": [
            "Input English sentence: rice is good with miso soup\n",
            "Actual Marathi Translation:  मिसो सूपबरोबर भात चांगला लागतो \n",
            "Predicted Marathi Translation:  तुमच्या तुलनेत किती आवडतात \n"
          ],
          "name": "stdout"
        }
      ]
    },
    {
      "cell_type": "code",
      "metadata": {
        "id": "PoXg37Us_f_f",
        "colab_type": "code",
        "outputId": "f9fa6f87-98bc-4054-9afb-ad249bdae398",
        "colab": {
          "base_uri": "https://localhost:8080/",
          "height": 68
        }
      },
      "source": [
        "k+=1\n",
        "(input_seq, actual_output), _ = next(val_gen)\n",
        "decoded_sentence = decode_sequence(input_seq)\n",
        "print('Input English sentence:', X_test[k:k+1].values[0])\n",
        "print('Actual Marathi Translation:', y_test[k:k+1].values[0][6:-4])\n",
        "print('Predicted Marathi Translation:', decoded_sentence[:-4])"
      ],
      "execution_count": 116,
      "outputs": [
        {
          "output_type": "stream",
          "text": [
            "Input English sentence: this book is really old\n",
            "Actual Marathi Translation:  हे पुस्तक खरंच जुनं आहे \n",
            "Predicted Marathi Translation:  हे पुस्तक अतिशय कठीण आहे \n"
          ],
          "name": "stdout"
        }
      ]
    },
    {
      "cell_type": "code",
      "metadata": {
        "id": "sRFWKkUN_f_g",
        "colab_type": "code",
        "outputId": "5e71033f-719f-4b1a-e92e-46f0943a7e85",
        "colab": {
          "base_uri": "https://localhost:8080/",
          "height": 68
        }
      },
      "source": [
        "k+=1\n",
        "(input_seq, actual_output), _ = next(val_gen)\n",
        "decoded_sentence = decode_sequence(input_seq)\n",
        "print('Input English sentence:', X_test[k:k+1].values[0])\n",
        "print('Actual Marathi Translation:', y_test[k:k+1].values[0][6:-4])\n",
        "print('Predicted Marathi Translation:', decoded_sentence[:-4])"
      ],
      "execution_count": 117,
      "outputs": [
        {
          "output_type": "stream",
          "text": [
            "Input English sentence: we won\n",
            "Actual Marathi Translation:  आपण जिंकलो \n",
            "Predicted Marathi Translation:  आपण जिंकलो \n"
          ],
          "name": "stdout"
        }
      ]
    },
    {
      "cell_type": "code",
      "metadata": {
        "id": "hlqfBIHS_f_h",
        "colab_type": "code",
        "outputId": "bd67dfac-f3a5-4e36-a5b9-36b4d6f1b0e6",
        "colab": {
          "base_uri": "https://localhost:8080/",
          "height": 68
        }
      },
      "source": [
        "k+=1\n",
        "(input_seq, actual_output), _ = next(val_gen)\n",
        "decoded_sentence = decode_sequence(input_seq)\n",
        "print('Input English sentence:', X_test[k:k+1].values[0])\n",
        "print('Actual Marathi Translation:', y_test[k:k+1].values[0][6:-4])\n",
        "print('Predicted Marathi Translation:', decoded_sentence[:-4])"
      ],
      "execution_count": 118,
      "outputs": [
        {
          "output_type": "stream",
          "text": [
            "Input English sentence: she has small feet\n",
            "Actual Marathi Translation:  तिचे छोटे पाय आहेत \n",
            "Predicted Marathi Translation:  तिच्याकडे छोटे केस आहेत \n"
          ],
          "name": "stdout"
        }
      ]
    },
    {
      "cell_type": "code",
      "metadata": {
        "id": "3piECVaV_f_k",
        "colab_type": "code",
        "outputId": "de0f44e8-aad6-45bb-e212-7eb33f52b97b",
        "colab": {
          "base_uri": "https://localhost:8080/",
          "height": 68
        }
      },
      "source": [
        "k+=1\n",
        "(input_seq, actual_output), _ = next(val_gen)\n",
        "decoded_sentence = decode_sequence(input_seq)\n",
        "print('Input English sentence:', X_test[k:k+1].values[0])\n",
        "print('Actual Marathi Translation:', y_test[k:k+1].values[0][6:-4])\n",
        "print('Predicted Marathi Translation:', decoded_sentence[:-4])"
      ],
      "execution_count": 119,
      "outputs": [
        {
          "output_type": "stream",
          "text": [
            "Input English sentence: i dont want to sign that\n",
            "Actual Marathi Translation:  मला त्यावर सही करायची नाहीये \n",
            "Predicted Marathi Translation:  मला त्या मुलींना जायचं नाहीये \n"
          ],
          "name": "stdout"
        }
      ]
    },
    {
      "cell_type": "code",
      "metadata": {
        "id": "Hw8bSjTq_f_l",
        "colab_type": "code",
        "outputId": "8bc6998d-56f2-42bc-dedf-7416731350c8",
        "colab": {
          "base_uri": "https://localhost:8080/",
          "height": 68
        }
      },
      "source": [
        "k+=1\n",
        "(input_seq, actual_output), _ = next(val_gen)\n",
        "decoded_sentence = decode_sequence(input_seq)\n",
        "print('Input English sentence:', X_test[k:k+1].values[0])\n",
        "print('Actual Marathi Translation:', y_test[k:k+1].values[0][6:-4])\n",
        "print('Predicted Marathi Translation:', decoded_sentence[:-4])"
      ],
      "execution_count": 120,
      "outputs": [
        {
          "output_type": "stream",
          "text": [
            "Input English sentence: tom still doesnt live in boston\n",
            "Actual Marathi Translation:  टॉम अजूनही बॉस्टनमध्ये राहत नाही \n",
            "Predicted Marathi Translation:  टॉम अजूनही बॉस्टनमध्ये नाही होतो \n"
          ],
          "name": "stdout"
        }
      ]
    },
    {
      "cell_type": "code",
      "metadata": {
        "id": "JxnFaPwL_f_n",
        "colab_type": "code",
        "outputId": "e810ec24-3f06-426a-fe06-14e8226dea06",
        "colab": {
          "base_uri": "https://localhost:8080/",
          "height": 68
        }
      },
      "source": [
        "k+=1\n",
        "(input_seq, actual_output), _ = next(val_gen)\n",
        "decoded_sentence = decode_sequence(input_seq)\n",
        "print('Input English sentence:', X_test[k:k+1].values[0])\n",
        "print('Actual Marathi Translation:', y_test[k:k+1].values[0][6:-4])\n",
        "print('Predicted Marathi Translation:', decoded_sentence[:-4])"
      ],
      "execution_count": 121,
      "outputs": [
        {
          "output_type": "stream",
          "text": [
            "Input English sentence: tom was different\n",
            "Actual Marathi Translation:  टॉम वेगळा होता \n",
            "Predicted Marathi Translation:  टॉम जिंकला \n"
          ],
          "name": "stdout"
        }
      ]
    },
    {
      "cell_type": "code",
      "metadata": {
        "id": "xG4RQLPb_f_p",
        "colab_type": "code",
        "outputId": "19d7c930-0a75-4e5f-8521-65f0025bed09",
        "colab": {
          "base_uri": "https://localhost:8080/",
          "height": 68
        }
      },
      "source": [
        "k+=1\n",
        "(input_seq, actual_output), _ = next(val_gen)\n",
        "decoded_sentence = decode_sequence(input_seq)\n",
        "print('Input English sentence:', X_test[k:k+1].values[0])\n",
        "print('Actual Marathi Translation:', y_test[k:k+1].values[0][6:-4])\n",
        "print('Predicted Marathi Translation:', decoded_sentence[:-4])"
      ],
      "execution_count": 122,
      "outputs": [
        {
          "output_type": "stream",
          "text": [
            "Input English sentence: he has a camera\n",
            "Actual Marathi Translation:  त्याच्याकडे कॅमेरा आहे \n",
            "Predicted Marathi Translation:  त्याच्याकडे एक कॅमेरा आहे \n"
          ],
          "name": "stdout"
        }
      ]
    },
    {
      "cell_type": "code",
      "metadata": {
        "id": "aAlsBK9w_f_q",
        "colab_type": "code",
        "outputId": "969374b4-6ae6-4281-e8ab-21d9119adc0c",
        "colab": {
          "base_uri": "https://localhost:8080/",
          "height": 68
        }
      },
      "source": [
        "k+=1\n",
        "(input_seq, actual_output), _ = next(val_gen)\n",
        "decoded_sentence = decode_sequence(input_seq)\n",
        "print('Input English sentence:', X_test[k:k+1].values[0])\n",
        "print('Actual Marathi Translation:', y_test[k:k+1].values[0][6:-4])\n",
        "print('Predicted Marathi Translation:', decoded_sentence[:-4])"
      ],
      "execution_count": 123,
      "outputs": [
        {
          "output_type": "stream",
          "text": [
            "Input English sentence: i dont need to talk to tom\n",
            "Actual Marathi Translation:  मला टॉमशी बोलण्याची गरज नाहीये \n",
            "Predicted Marathi Translation:  मला टॉमशी बोलायचं नाहीये \n"
          ],
          "name": "stdout"
        }
      ]
    },
    {
      "cell_type": "code",
      "metadata": {
        "id": "pNA5_6IH_f_s",
        "colab_type": "code",
        "outputId": "53d58330-d4c2-47ef-e573-e3580a0611ff",
        "colab": {
          "base_uri": "https://localhost:8080/",
          "height": 68
        }
      },
      "source": [
        "k+=1\n",
        "(input_seq, actual_output), _ = next(val_gen)\n",
        "decoded_sentence = decode_sequence(input_seq)\n",
        "print('Input English sentence:', X_test[k:k+1].values[0])\n",
        "print('Actual Marathi Translation:', y_test[k:k+1].values[0][6:-4])\n",
        "print('Predicted Marathi Translation:', decoded_sentence[:-4])"
      ],
      "execution_count": 124,
      "outputs": [
        {
          "output_type": "stream",
          "text": [
            "Input English sentence: i speak french a little bit\n",
            "Actual Marathi Translation:  मला अगदी जराशी फ्रेंच बोलता येते \n",
            "Predicted Marathi Translation:  मी फ्रेंच फ्रेंच बोलता येत नाही \n"
          ],
          "name": "stdout"
        }
      ]
    },
    {
      "cell_type": "code",
      "metadata": {
        "id": "xZ-__JXs_f_t",
        "colab_type": "code",
        "outputId": "2c20a5c4-92d9-4be6-9f80-49837fd24e84",
        "colab": {
          "base_uri": "https://localhost:8080/",
          "height": 68
        }
      },
      "source": [
        "k+=1\n",
        "(input_seq, actual_output), _ = next(val_gen)\n",
        "decoded_sentence = decode_sequence(input_seq)\n",
        "print('Input English sentence:', X_test[k:k+1].values[0])\n",
        "print('Actual Marathi Translation:', y_test[k:k+1].values[0][6:-4])\n",
        "print('Predicted Marathi Translation:', decoded_sentence[:-4])"
      ],
      "execution_count": 125,
      "outputs": [
        {
          "output_type": "stream",
          "text": [
            "Input English sentence: the miners did not want to fight\n",
            "Actual Marathi Translation:  खाण कामगार लढू इच्छित नव्हते \n",
            "Predicted Marathi Translation:  सूर्य तर चमकत होतं नाहीतर सगळीकडे आहे \n"
          ],
          "name": "stdout"
        }
      ]
    },
    {
      "cell_type": "code",
      "metadata": {
        "id": "598Y2UxJ_f_w",
        "colab_type": "code",
        "outputId": "4c402155-2596-4238-aab3-33903ff8cdc7",
        "colab": {
          "base_uri": "https://localhost:8080/",
          "height": 68
        }
      },
      "source": [
        "k+=1\n",
        "(input_seq, actual_output), _ = next(val_gen)\n",
        "decoded_sentence = decode_sequence(input_seq)\n",
        "print('Input English sentence:', X_test[k:k+1].values[0])\n",
        "print('Actual Marathi Translation:', y_test[k:k+1].values[0][6:-4])\n",
        "print('Predicted Marathi Translation:', decoded_sentence[:-4])"
      ],
      "execution_count": 126,
      "outputs": [
        {
          "output_type": "stream",
          "text": [
            "Input English sentence: seven is sometimes considered a lucky number\n",
            "Actual Marathi Translation:  सात हा कधीकधी नशीबवान अंक समजला जातो \n",
            "Predicted Marathi Translation:  लोकं जपानी लोकं तू राहतात का \n"
          ],
          "name": "stdout"
        }
      ]
    },
    {
      "cell_type": "code",
      "metadata": {
        "id": "BjNPbh_j_f_y",
        "colab_type": "code",
        "outputId": "e4e4101e-b691-4d59-be7b-cf22a835545c",
        "colab": {
          "base_uri": "https://localhost:8080/",
          "height": 68
        }
      },
      "source": [
        "k+=1\n",
        "(input_seq, actual_output), _ = next(val_gen)\n",
        "decoded_sentence = decode_sequence(input_seq)\n",
        "print('Input English sentence:', X_test[k:k+1].values[0])\n",
        "print('Actual Marathi Translation:', y_test[k:k+1].values[0][6:-4])\n",
        "print('Predicted Marathi Translation:', decoded_sentence[:-4])"
      ],
      "execution_count": 127,
      "outputs": [
        {
          "output_type": "stream",
          "text": [
            "Input English sentence: tom was here all day\n",
            "Actual Marathi Translation:  टॉम दिवसभर इथे होता \n",
            "Predicted Marathi Translation:  टॉम इथे इथे आलो \n"
          ],
          "name": "stdout"
        }
      ]
    },
    {
      "cell_type": "code",
      "metadata": {
        "id": "9yAy1rj0_f_0",
        "colab_type": "code",
        "outputId": "3510b508-0044-4931-a47d-6aeb76accb0a",
        "colab": {
          "base_uri": "https://localhost:8080/",
          "height": 68
        }
      },
      "source": [
        "k+=1\n",
        "(input_seq, actual_output), _ = next(val_gen)\n",
        "decoded_sentence = decode_sequence(input_seq)\n",
        "print('Input English sentence:', X_test[k:k+1].values[0])\n",
        "print('Actual Marathi Translation:', y_test[k:k+1].values[0][6:-4])\n",
        "print('Predicted Marathi Translation:', decoded_sentence[:-4])"
      ],
      "execution_count": 128,
      "outputs": [
        {
          "output_type": "stream",
          "text": [
            "Input English sentence: lots of italians went to australia\n",
            "Actual Marathi Translation:  पुष्कळ इटालियन ऑस्ट्रेलियाला गेले \n",
            "Predicted Marathi Translation:  हे तीस जण होते की मी तीन आहेत \n"
          ],
          "name": "stdout"
        }
      ]
    },
    {
      "cell_type": "code",
      "metadata": {
        "id": "jv9xt5wA_f_4",
        "colab_type": "code",
        "outputId": "5664f2a6-3b9b-4286-b6a5-10d552c4ec31",
        "colab": {
          "base_uri": "https://localhost:8080/",
          "height": 68
        }
      },
      "source": [
        "k+=1\n",
        "(input_seq, actual_output), _ = next(val_gen)\n",
        "decoded_sentence = decode_sequence(input_seq)\n",
        "print('Input English sentence:', X_test[k:k+1].values[0])\n",
        "print('Actual Marathi Translation:', y_test[k:k+1].values[0][6:-4])\n",
        "print('Predicted Marathi Translation:', decoded_sentence[:-4])"
      ],
      "execution_count": 129,
      "outputs": [
        {
          "output_type": "stream",
          "text": [
            "Input English sentence: do you know toms full name\n",
            "Actual Marathi Translation:  तुला टॉमचं पूर्ण नाव माहीत आहे का \n",
            "Predicted Marathi Translation:  टॉमचं नाव काय माहीत नाही का आहे \n"
          ],
          "name": "stdout"
        }
      ]
    },
    {
      "cell_type": "code",
      "metadata": {
        "id": "6cXNnFYH_f_5",
        "colab_type": "code",
        "outputId": "84106848-dbd6-4687-d070-47ed4b88c4c3",
        "colab": {
          "base_uri": "https://localhost:8080/",
          "height": 68
        }
      },
      "source": [
        "k+=1\n",
        "(input_seq, actual_output), _ = next(val_gen)\n",
        "decoded_sentence = decode_sequence(input_seq)\n",
        "print('Input English sentence:', X_test[k:k+1].values[0])\n",
        "print('Actual Marathi Translation:', y_test[k:k+1].values[0][6:-4])\n",
        "print('Predicted Marathi Translation:', decoded_sentence[:-4])"
      ],
      "execution_count": 130,
      "outputs": [
        {
          "output_type": "stream",
          "text": [
            "Input English sentence: i like your idea\n",
            "Actual Marathi Translation:  मला तुझी आयडिया आवडली \n",
            "Predicted Marathi Translation:  मला तुझी मदत करू दे \n"
          ],
          "name": "stdout"
        }
      ]
    },
    {
      "cell_type": "code",
      "metadata": {
        "id": "l7HHq_G8_f_8",
        "colab_type": "code",
        "outputId": "6d9c73bf-d63b-400b-cac4-8f0e0f411faa",
        "colab": {
          "base_uri": "https://localhost:8080/",
          "height": 68
        }
      },
      "source": [
        "k+=1\n",
        "(input_seq, actual_output), _ = next(val_gen)\n",
        "decoded_sentence = decode_sequence(input_seq)\n",
        "print('Input English sentence:', X_test[k:k+1].values[0])\n",
        "print('Actual Marathi Translation:', y_test[k:k+1].values[0][6:-4])\n",
        "print('Predicted Marathi Translation:', decoded_sentence[:-4])"
      ],
      "execution_count": 131,
      "outputs": [
        {
          "output_type": "stream",
          "text": [
            "Input English sentence: who are you calling\n",
            "Actual Marathi Translation:  कोणाला फोन करत आहेस \n",
            "Predicted Marathi Translation:  तुला कोण कोणाला आहे \n"
          ],
          "name": "stdout"
        }
      ]
    },
    {
      "cell_type": "code",
      "metadata": {
        "id": "kMMuHC8A_f_-",
        "colab_type": "code",
        "outputId": "26b7396c-2b25-48c5-db86-2c9e7a24824f",
        "colab": {
          "base_uri": "https://localhost:8080/",
          "height": 68
        }
      },
      "source": [
        "k+=1\n",
        "(input_seq, actual_output), _ = next(val_gen)\n",
        "decoded_sentence = decode_sequence(input_seq)\n",
        "print('Input English sentence:', X_test[k:k+1].values[0])\n",
        "print('Actual Marathi Translation:', y_test[k:k+1].values[0][6:-4])\n",
        "print('Predicted Marathi Translation:', decoded_sentence[:-4])"
      ],
      "execution_count": 132,
      "outputs": [
        {
          "output_type": "stream",
          "text": [
            "Input English sentence: i know tom very well\n",
            "Actual Marathi Translation:  मी टॉमला अगदी बर्‍यापैकी ओळखते \n",
            "Predicted Marathi Translation:  मला अजूनही फोन करतोय \n"
          ],
          "name": "stdout"
        }
      ]
    },
    {
      "cell_type": "code",
      "metadata": {
        "id": "gmp1zJPg_f__",
        "colab_type": "code",
        "outputId": "4690586c-cc11-4d1d-84d9-73f80dc96dec",
        "colab": {
          "base_uri": "https://localhost:8080/",
          "height": 68
        }
      },
      "source": [
        "k+=1\n",
        "(input_seq, actual_output), _ = next(val_gen)\n",
        "decoded_sentence = decode_sequence(input_seq)\n",
        "print('Input English sentence:', X_test[k:k+1].values[0])\n",
        "print('Actual Marathi Translation:', y_test[k:k+1].values[0][6:-4])\n",
        "print('Predicted Marathi Translation:', decoded_sentence[:-4])"
      ],
      "execution_count": 133,
      "outputs": [
        {
          "output_type": "stream",
          "text": [
            "Input English sentence: many americans did not have jobs\n",
            "Actual Marathi Translation:  पुष्कळ अमेरिकनांकडे नोकर्‍या नव्हत्या \n",
            "Predicted Marathi Translation:  अमेरिकन देशांमध्ये देशांमध्ये लोकप्रिय आहे \n"
          ],
          "name": "stdout"
        }
      ]
    },
    {
      "cell_type": "code",
      "metadata": {
        "id": "R0fK1IdI_gAC",
        "colab_type": "code",
        "outputId": "d4868204-7123-44b6-9e3f-5b178a48728e",
        "colab": {
          "base_uri": "https://localhost:8080/",
          "height": 68
        }
      },
      "source": [
        "k+=1\n",
        "(input_seq, actual_output), _ = next(val_gen)\n",
        "decoded_sentence = decode_sequence(input_seq)\n",
        "print('Input English sentence:', X_test[k:k+1].values[0])\n",
        "print('Actual Marathi Translation:', y_test[k:k+1].values[0][6:-4])\n",
        "print('Predicted Marathi Translation:', decoded_sentence[:-4])"
      ],
      "execution_count": 134,
      "outputs": [
        {
          "output_type": "stream",
          "text": [
            "Input English sentence: let me come with you\n",
            "Actual Marathi Translation:  मला तुझ्याबरोबर येऊ दे \n",
            "Predicted Marathi Translation:  मला आत ये \n"
          ],
          "name": "stdout"
        }
      ]
    },
    {
      "cell_type": "code",
      "metadata": {
        "id": "Wu3Yo19a_gAE",
        "colab_type": "code",
        "outputId": "0ae66194-aaeb-4990-9444-1e2fdc6b723f",
        "colab": {
          "base_uri": "https://localhost:8080/",
          "height": 153
        }
      },
      "source": [
        "k+=1\n",
        "(input_seq, actual_output), _ = next(val_gen)\n",
        "decoded_sentence = decode_sequence(input_seq)\n",
        "print('Input English sentence:', X_test[k:k+1].values[0])\n",
        "print('Actual Marathi Translation:', y_test[k:k+1].values[0][6:-4])\n",
        "print('Predicted Marathi Translation:', decoded_sentence[:-4])\n",
        "BLEUscore = nltk.translate.bleu_score.sentence_bleu([decoded_sentence[:-4]], X_test[k:k+1].values[0])\n",
        "print(BLEUscore)"
      ],
      "execution_count": 140,
      "outputs": [
        {
          "output_type": "stream",
          "text": [
            "Input English sentence: tom doesnt listen to anyone\n",
            "Actual Marathi Translation:  टॉम कोणाचंही ऐकत नाही \n",
            "Predicted Marathi Translation:  टॉम कोणीही ऐकत नाही \n",
            "0.6204032394013997\n"
          ],
          "name": "stdout"
        },
        {
          "output_type": "stream",
          "text": [
            "/usr/local/lib/python3.6/dist-packages/nltk/translate/bleu_score.py:490: UserWarning: \n",
            "Corpus/Sentence contains 0 counts of 2-gram overlaps.\n",
            "BLEU scores might be undesirable; use SmoothingFunction().\n",
            "  warnings.warn(_msg)\n"
          ],
          "name": "stderr"
        }
      ]
    },
    {
      "cell_type": "code",
      "metadata": {
        "id": "vAEpCNEt_gAF",
        "colab_type": "code",
        "colab": {}
      },
      "source": [
        ""
      ],
      "execution_count": 0,
      "outputs": []
    }
  ]
}